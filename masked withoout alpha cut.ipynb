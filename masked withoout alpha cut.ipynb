{
 "cells": [
  {
   "cell_type": "code",
   "execution_count": 1,
   "id": "83791444",
   "metadata": {},
   "outputs": [
    {
     "name": "stdout",
     "output_type": "stream",
     "text": [
      "Degree of membership Masked Face:  {'a': 0.2, 'b': 0.5, 'c': 0.3, 'd': 0.8, 'e': 0.1}\n",
      "Degree of Membership Non Masked Face: {'a': 1, 'b': 0.2, 'c': 0.4, 'd': 0.5, 'e': 0.2}\n"
     ]
    }
   ],
   "source": [
    "A = {\"a\": 0.2, \"b\": 0.5, \"c\": 0.3, \"d\": 0.8, \"e\" : 0.1}\n",
    "B = {\"a\": 1, \"b\": 0.2, \"c\": 0.4, \"d\": 0.5, \"e\": 0.2}\n",
    "print(\"Degree of membership Masked Face: \", A)\n",
    "print(\"Degree of Membership Non Masked Face:\",B)"
   ]
  },
  {
   "cell_type": "code",
   "execution_count": 2,
   "id": "1eeb80ed",
   "metadata": {},
   "outputs": [
    {
     "name": "stdout",
     "output_type": "stream",
     "text": [
      "Complement set of Masked Face is :  {'a': 0.8, 'b': 0.5, 'c': 0.7, 'd': 0.19999999999999996, 'e': 0.9}\n"
     ]
    }
   ],
   "source": [
    "Y= dict()\n",
    "for A_key in A:\n",
    "    Y[A_key] = 1-A[A_key]\n",
    "print(\"Complement set of Masked Face is : \", Y)"
   ]
  },
  {
   "cell_type": "code",
   "execution_count": 3,
   "id": "0e943ef8",
   "metadata": {},
   "outputs": [
    {
     "name": "stdout",
     "output_type": "stream",
     "text": [
      "Fuzzy set after union:  {'a': 1, 'b': 0.5, 'c': 0.4, 'd': 0.8, 'e': 0.2}\n"
     ]
    }
   ],
   "source": [
    "Z=dict()\n",
    "for A_key, B_key in zip(A,B):\n",
    "    A_value = A[A_key]\n",
    "    B_value = B[B_key]\n",
    "    if A_value > B_value:\n",
    "        Z[A_key]= A_value\n",
    "    else:\n",
    "        Z[B_key]= B_value\n",
    "print(\"Fuzzy set after union: \", Z)"
   ]
  },
  {
   "cell_type": "code",
   "execution_count": 4,
   "id": "4de90b46",
   "metadata": {},
   "outputs": [
    {
     "name": "stdout",
     "output_type": "stream",
     "text": [
      "Fuzzy set after intersection:  {'a': 0.2, 'b': 0.2, 'c': 0.3, 'd': 0.5, 'e': 0.1}\n"
     ]
    }
   ],
   "source": [
    "Z=dict()\n",
    "for A_key, B_key in zip(A,B):\n",
    "    A_value = A[A_key]\n",
    "    B_value = B[B_key]\n",
    "    if A_value < B_value:\n",
    "        Z[A_key]= A_value\n",
    "    else:\n",
    "        Z[B_key]= B_value\n",
    "print(\"Fuzzy set after intersection: \", Z)"
   ]
  },
  {
   "cell_type": "code",
   "execution_count": 5,
   "id": "86cf2734",
   "metadata": {},
   "outputs": [
    {
     "name": "stdout",
     "output_type": "stream",
     "text": [
      "Complement set of Non Masked Face is :  {'a': 0, 'b': 0.8, 'c': 0.6, 'd': 0.5, 'e': 0.8}\n"
     ]
    }
   ],
   "source": [
    "K= dict()\n",
    "for B_key in B:\n",
    "    K[B_key] = 1-B[B_key]\n",
    "print(\"Complement set of Non Masked Face is : \", K)"
   ]
  },
  {
   "cell_type": "code",
   "execution_count": 11,
   "id": "368e33a2",
   "metadata": {},
   "outputs": [
    {
     "name": "stdout",
     "output_type": "stream",
     "text": [
      "Fuzzy set after Masked - Non Masked:  {'a': 0.2, 'b': 0.2, 'c': 0.3, 'd': 0.5, 'e': 0.1}\n"
     ]
    }
   ],
   "source": [
    "D= dict()\n",
    "for A_key, B_key in zip(A,K):\n",
    "    A_value = A[A_key]\n",
    "    K_value = K[K_key]\n",
    "    if A_value < B_value:\n",
    "        D[A_key]= A_value\n",
    "    else:\n",
    "        D[B_key]= B_value\n",
    "print(\"Fuzzy set after Masked - Non Masked: \", Z)"
   ]
  },
  {
   "cell_type": "code",
   "execution_count": null,
   "id": "9a145b1a",
   "metadata": {},
   "outputs": [],
   "source": []
  }
 ],
 "metadata": {
  "kernelspec": {
   "display_name": "Python 3",
   "language": "python",
   "name": "python3"
  },
  "language_info": {
   "codemirror_mode": {
    "name": "ipython",
    "version": 3
   },
   "file_extension": ".py",
   "mimetype": "text/x-python",
   "name": "python",
   "nbconvert_exporter": "python",
   "pygments_lexer": "ipython3",
   "version": "3.8.8"
  }
 },
 "nbformat": 4,
 "nbformat_minor": 5
}
