{
 "cells": [
  {
   "cell_type": "code",
   "execution_count": 7,
   "id": "16a23a69",
   "metadata": {},
   "outputs": [
    {
     "name": "stdout",
     "output_type": "stream",
     "text": [
      "Degree of membership Masked Face:  {'a': 0.2, 'b': 0.5, 'c': 0.3, 'd': 0.8, 'e': 0.1}\n",
      "Degree of Membership Non Masked Face: {'a': 1, 'b': 0.2, 'c': 0.4, 'd': 0.5, 'e': 0.2}\n"
     ]
    }
   ],
   "source": [
    "A = {\"a\": 0.2, \"b\": 0.5, \"c\": 0.3, \"d\": 0.8, \"e\" : 0.1}\n",
    "B = {\"a\": 1, \"b\": 0.2, \"c\": 0.4, \"d\": 0.5, \"e\": 0.2}\n",
    "print(\"Degree of membership Masked Face: \", A)\n",
    "print(\"Degree of Membership Non Masked Face:\",B)"
   ]
  },
  {
   "cell_type": "code",
   "execution_count": 8,
   "id": "5e8e1fc3",
   "metadata": {},
   "outputs": [
    {
     "name": "stdout",
     "output_type": "stream",
     "text": [
      "Complement set of Masked Face is :  {'a': 0.8, 'b': 0.5, 'c': 0.7, 'd': 0.19999999999999996, 'e': 0.9}\n",
      "Fuzzy set union after alpha cut 0.4:  {'a': 0.8, 'b': 0.5, 'c': 0.7, 'e': 0.9}\n"
     ]
    }
   ],
   "source": [
    "Y= dict()\n",
    "for A_key in A:\n",
    "    Y[A_key] = 1-A[A_key]\n",
    "print(\"Complement set of Masked Face is : \", Y)\n",
    "Y_1 = dict()\n",
    "for Y_key in Y:\n",
    "    Y_value = Y[Y_key]\n",
    "    if Y_value >0.4:\n",
    "        Y_1[Y_key]=Y_value\n",
    "    else:\n",
    "        continue\n",
    "print(\"Fuzzy set union after alpha cut 0.4: \", Y_1)"
   ]
  },
  {
   "cell_type": "code",
   "execution_count": 9,
   "id": "b04d8478",
   "metadata": {},
   "outputs": [
    {
     "name": "stdout",
     "output_type": "stream",
     "text": [
      "Fuzzy set after union:  {'a': 1, 'b': 0.5, 'c': 0.4, 'd': 0.8, 'e': 0.2}\n",
      "Fuzzy set union after alpha cut 0.4:  {'a': 1, 'b': 0.5, 'd': 0.8}\n"
     ]
    }
   ],
   "source": [
    "Z=dict()\n",
    "for A_key, B_key in zip(A,B):\n",
    "    A_value = A[A_key]\n",
    "    B_value = B[B_key]\n",
    "    if A_value > B_value:\n",
    "        Z[A_key]= A_value\n",
    "    else:\n",
    "        Z[B_key]= B_value\n",
    "print(\"Fuzzy set after union: \", Z)\n",
    "Z_1 = dict()\n",
    "for Z_key in Z:\n",
    "    Z_value = Z[Z_key]\n",
    "    if Z_value >0.4:\n",
    "        Z_1[Z_key]=Z_value\n",
    "    else:\n",
    "        continue\n",
    "print(\"Fuzzy set union after alpha cut 0.4: \", Z_1)"
   ]
  },
  {
   "cell_type": "code",
   "execution_count": 10,
   "id": "31fdf0fd",
   "metadata": {},
   "outputs": [
    {
     "name": "stdout",
     "output_type": "stream",
     "text": [
      "Fuzzy set after intersection:  {'a': 0.2, 'b': 0.2, 'c': 0.3, 'd': 0.5, 'e': 0.1}\n",
      "Fuzzy set union after alpha cut 0.4:  {'d': 0.5}\n"
     ]
    }
   ],
   "source": [
    "Z=dict()\n",
    "for A_key, B_key in zip(A,B):\n",
    "    A_value = A[A_key]\n",
    "    B_value = B[B_key]\n",
    "    if A_value < B_value:\n",
    "        Z[A_key]= A_value\n",
    "    else:\n",
    "        Z[B_key]= B_value\n",
    "print(\"Fuzzy set after intersection: \", Z)\n",
    "Z_2 = dict()\n",
    "for Z_key in Z:\n",
    "    Z_value = Z[Z_key]\n",
    "    if Z_value >0.4:\n",
    "        Z_2[Z_key]=Z_value\n",
    "    else:\n",
    "        continue\n",
    "print(\"Fuzzy set union after alpha cut 0.4: \", Z_2)"
   ]
  },
  {
   "cell_type": "code",
   "execution_count": 11,
   "id": "afa96325",
   "metadata": {},
   "outputs": [
    {
     "name": "stdout",
     "output_type": "stream",
     "text": [
      "Complement set of Non Masked Face is :  {'a': 0, 'b': 0.8, 'c': 0.6, 'd': 0.5, 'e': 0.8}\n",
      "Fuzzy set union after alpha cut 0.4:  {'b': 0.8, 'c': 0.6, 'd': 0.5, 'e': 0.8}\n"
     ]
    }
   ],
   "source": [
    "K= dict()\n",
    "for B_key in B:\n",
    "    K[B_key] = 1-B[B_key]\n",
    "print(\"Complement set of Non Masked Face is : \", K)\n",
    "K_1 = dict()\n",
    "for K_key in K:\n",
    "    K_value = K[K_key]\n",
    "    if K_value >0.4:\n",
    "        K_1[K_key]=K_value\n",
    "    else:\n",
    "        continue\n",
    "print(\"Fuzzy set union after alpha cut 0.4: \", K_1)"
   ]
  },
  {
   "cell_type": "code",
   "execution_count": 12,
   "id": "ad5e5c2b",
   "metadata": {},
   "outputs": [
    {
     "name": "stdout",
     "output_type": "stream",
     "text": [
      "Fuzzy set after Masked - Non Masked:  {'a': 0.2, 'b': 0.2, 'c': 0.2, 'd': 0.2, 'e': 0.1}\n",
      "Fuzzy set union after alpha cut 0.4:  {}\n"
     ]
    }
   ],
   "source": [
    "D= dict()\n",
    "for A_key, B_key in zip(A,K):\n",
    "    A_value = A[A_key]\n",
    "    K_value = K[B_key]\n",
    "    if A_value < B_value:\n",
    "        D[A_key]= A_value\n",
    "    else:\n",
    "        D[B_key]= B_value\n",
    "print(\"Fuzzy set after Masked - Non Masked: \", D)\n",
    "D_1 = dict()\n",
    "for D_key in D:\n",
    "    D_value = D[D_key]\n",
    "    if D_value >0.4:\n",
    "        D_1[D_key]=D_value\n",
    "    else:\n",
    "        continue\n",
    "print(\"Fuzzy set union after alpha cut 0.4: \", D_1)"
   ]
  },
  {
   "cell_type": "code",
   "execution_count": null,
   "id": "e93af806",
   "metadata": {},
   "outputs": [],
   "source": []
  }
 ],
 "metadata": {
  "kernelspec": {
   "display_name": "Python 3",
   "language": "python",
   "name": "python3"
  },
  "language_info": {
   "codemirror_mode": {
    "name": "ipython",
    "version": 3
   },
   "file_extension": ".py",
   "mimetype": "text/x-python",
   "name": "python",
   "nbconvert_exporter": "python",
   "pygments_lexer": "ipython3",
   "version": "3.8.8"
  }
 },
 "nbformat": 4,
 "nbformat_minor": 5
}
