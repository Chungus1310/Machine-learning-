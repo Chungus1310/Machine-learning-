{
 "cells": [
  {
   "cell_type": "code",
   "execution_count": 1,
   "id": "1c118780",
   "metadata": {},
   "outputs": [],
   "source": [
    "import keras\n",
    "\n",
    "from keras.datasets import mnist\n",
    "\n",
    "from keras.models import Sequential\n",
    "\n",
    "from keras.layers import Dense, Dropout, Flatten\n",
    "\n",
    "from keras.layers import Conv2D, MaxPooling2D\n",
    "\n",
    "import numpy as np"
   ]
  },
  {
   "cell_type": "code",
   "execution_count": 2,
   "id": "efcc8434",
   "metadata": {},
   "outputs": [],
   "source": [
    "batch_size = 128\n",
    "\n",
    "num_classes = 10\n",
    "\n",
    "epochs = 12"
   ]
  },
  {
   "cell_type": "code",
   "execution_count": 3,
   "id": "d1bf6ce1",
   "metadata": {},
   "outputs": [
    {
     "name": "stdout",
     "output_type": "stream",
     "text": [
      "x_train shape: (60000, 28, 28, 1)\n",
      "60000 train samples\n",
      "10000 test samples\n"
     ]
    }
   ],
   "source": [
    "# input image dimensions\n",
    "\n",
    "img_rows, img_cols = 28, 28\n",
    "\n",
    "# the data, split between train and test sets\n",
    "\n",
    "(x_train, y_train), (x_test, y_test) = mnist.load_data()\n",
    "\n",
    "x_train = x_train.reshape(60000,28,28,1)\n",
    "\n",
    "x_test = x_test.reshape(10000,28,28,1)\n",
    "\n",
    "print('x_train shape:', x_train.shape)\n",
    "\n",
    "print(x_train.shape[0], 'train samples')\n",
    "\n",
    "print(x_test.shape[0], 'test samples')"
   ]
  },
  {
   "cell_type": "code",
   "execution_count": 4,
   "id": "1f7b05ea",
   "metadata": {},
   "outputs": [],
   "source": [
    "# convert class vectors to binary class matrices\n",
    "\n",
    "y_train = keras.utils.to_categorical(y_train, num_classes)\n",
    "\n",
    "y_test = keras.utils.to_categorical(y_test, num_classes)"
   ]
  },
  {
   "cell_type": "code",
   "execution_count": 5,
   "id": "e79e6c52",
   "metadata": {},
   "outputs": [],
   "source": [
    "model = Sequential()\n",
    "\n",
    "model.add(Conv2D(32, kernel_size=(3, 3),\n",
    "\n",
    "activation='relu',\n",
    "\n",
    "input_shape=(28,28,1)))\n",
    "\n",
    "model.add(Conv2D(64, (3, 3), activation='relu'))\n",
    "\n",
    "model.add(MaxPooling2D(pool_size=(2, 2)))\n",
    "\n",
    "model.add(Dropout(0.25))\n",
    "\n",
    "model.add(Flatten())\n",
    "\n",
    "model.add(Dense(128, activation='relu'))\n",
    "\n",
    "model.add(Dropout(0.5))\n",
    "\n",
    "model.add(Dense(num_classes, activation='softmax'))"
   ]
  },
  {
   "cell_type": "code",
   "execution_count": 6,
   "id": "a922157e",
   "metadata": {},
   "outputs": [
    {
     "name": "stdout",
     "output_type": "stream",
     "text": [
      "Epoch 1/12\n",
      "469/469 [==============================] - 78s 164ms/step - loss: 20.9796 - accuracy: 0.1463 - val_loss: 3.5548 - val_accuracy: 0.4011\n",
      "Epoch 2/12\n",
      "469/469 [==============================] - 91s 195ms/step - loss: 9.0138 - accuracy: 0.2515 - val_loss: 1.5326 - val_accuracy: 0.5736\n",
      "Epoch 3/12\n",
      "469/469 [==============================] - 96s 205ms/step - loss: 4.8469 - accuracy: 0.3175 - val_loss: 1.2483 - val_accuracy: 0.5889\n",
      "Epoch 4/12\n",
      "469/469 [==============================] - 76s 162ms/step - loss: 3.1193 - accuracy: 0.3407 - val_loss: 1.3765 - val_accuracy: 0.5550\n",
      "Epoch 5/12\n",
      "469/469 [==============================] - 78s 166ms/step - loss: 2.3989 - accuracy: 0.3525 - val_loss: 1.4651 - val_accuracy: 0.5406\n",
      "Epoch 6/12\n",
      "469/469 [==============================] - 77s 164ms/step - loss: 2.0907 - accuracy: 0.3711 - val_loss: 1.4551 - val_accuracy: 0.5470\n",
      "Epoch 7/12\n",
      "469/469 [==============================] - 73s 155ms/step - loss: 1.9460 - accuracy: 0.3868 - val_loss: 1.4036 - val_accuracy: 0.5749\n",
      "Epoch 8/12\n",
      "469/469 [==============================] - 75s 159ms/step - loss: 1.8374 - accuracy: 0.4229 - val_loss: 1.3191 - val_accuracy: 0.6387\n",
      "Epoch 9/12\n",
      "469/469 [==============================] - 79s 167ms/step - loss: 1.7481 - accuracy: 0.4441 - val_loss: 1.2321 - val_accuracy: 0.6607\n",
      "Epoch 10/12\n",
      "469/469 [==============================] - 75s 161ms/step - loss: 1.6817 - accuracy: 0.4693 - val_loss: 1.1478 - val_accuracy: 0.6896\n",
      "Epoch 11/12\n",
      "469/469 [==============================] - 68s 145ms/step - loss: 1.6221 - accuracy: 0.4842 - val_loss: 1.0804 - val_accuracy: 0.7086\n",
      "Epoch 12/12\n",
      "469/469 [==============================] - 66s 141ms/step - loss: 1.5698 - accuracy: 0.5044 - val_loss: 1.0224 - val_accuracy: 0.7248\n"
     ]
    }
   ],
   "source": [
    "model.compile(loss=keras.losses.categorical_crossentropy,\n",
    "\n",
    "optimizer=keras.optimizers.Adadelta(),\n",
    "\n",
    "metrics=['accuracy'])\n",
    "\n",
    "model.fit(x_train, y_train,\n",
    "\n",
    "batch_size=batch_size,\n",
    "\n",
    "epochs=epochs,\n",
    "\n",
    "verbose=1,\n",
    "\n",
    "validation_data=(x_test, y_test))\n",
    "\n",
    "score = model.evaluate(x_test, y_test, verbose=0)"
   ]
  },
  {
   "cell_type": "code",
   "execution_count": 7,
   "id": "a83540b5",
   "metadata": {},
   "outputs": [
    {
     "name": "stdout",
     "output_type": "stream",
     "text": [
      "Test loss: 1.0224308967590332\n",
      "Test accuracy: 0.7247999906539917\n"
     ]
    }
   ],
   "source": [
    "print('Test loss:', score[0])\n",
    "\n",
    "print('Test accuracy:', score[1])"
   ]
  },
  {
   "cell_type": "code",
   "execution_count": null,
   "id": "472acee8",
   "metadata": {},
   "outputs": [],
   "source": []
  }
 ],
 "metadata": {
  "kernelspec": {
   "display_name": "Python 3",
   "language": "python",
   "name": "python3"
  },
  "language_info": {
   "codemirror_mode": {
    "name": "ipython",
    "version": 3
   },
   "file_extension": ".py",
   "mimetype": "text/x-python",
   "name": "python",
   "nbconvert_exporter": "python",
   "pygments_lexer": "ipython3",
   "version": "3.8.8"
  }
 },
 "nbformat": 4,
 "nbformat_minor": 5
}
