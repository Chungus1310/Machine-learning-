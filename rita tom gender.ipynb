{
 "cells": [
  {
   "cell_type": "code",
   "execution_count": 1,
   "id": "f18ad6f6",
   "metadata": {},
   "outputs": [
    {
     "name": "stdout",
     "output_type": "stream",
     "text": [
      "The Vector A as Inputs :  [30 15]\n",
      "The Vector A1 as Inputs :  [40 10]\n",
      "The Vector A2 as Inputs:  [20 10]\n",
      "The Vector A3 as Inputs:  [25 15]\n",
      "\n",
      "The Vector B as Weights:  [[0.1 0.2]\n",
      " [0.3 0.4]]\n",
      "Gender for Ron:  1\n",
      "Gender for Rita:  0\n",
      "Gender for Saras:  0\n",
      "Gender for Tom:  1\n"
     ]
    }
   ],
   "source": [
    "import numpy as np\n",
    "\n",
    "# Use of np.array() to define an Input Vector\n",
    "V = np.array([30,15])\n",
    "V1 = np.array([40,10])\n",
    "V2= np.array([20,10])\n",
    "V3= np.array([25,15])\n",
    "print(\"The Vector A as Inputs : \",V)\n",
    "print(\"The Vector A1 as Inputs : \",V1)\n",
    "print(\"The Vector A2 as Inputs: \", V2)\n",
    "print(\"The Vector A3 as Inputs: \", V3)\n",
    "# defining Weight Vector\n",
    "VV = np.array([[0.1,0.2],[0.3,0.4]])\n",
    "W = np.array([0.1,0.2])\n",
    "\n",
    "print(\"\\nThe Vector B as Weights: \",VV)\n",
    "\n",
    "# defining a neural network for predicting an \n",
    "# output value\n",
    "def neural_network(inputs, weights):\n",
    "    wT = np.transpose(weights)\n",
    "    elpro = wT.dot(inputs)\n",
    "    \n",
    "    # Tangent Hyperbolic Function for Decision Making\n",
    "    out = np.tanh(elpro)\n",
    "    return out\n",
    "\n",
    "outputi = neural_network(V,VV)\n",
    "outputi1 = neural_network(V1,VV)\n",
    "outputi2= neural_network(V2,VV)\n",
    "outputi3= neural_network(V3,VV)\n",
    "\n",
    "# printing the expected output\n",
    "# print(\"Expected Value of Hidden Layer Units: \", outputi)\n",
    "\n",
    "outputj = neural_network(outputi,W)\n",
    "outputj1 = neural_network(outputi1,W)\n",
    "ouptputj2=neural_network(outputi2,W)\n",
    "ouptputj3=neural_network(outputi3,W)\n",
    "\n",
    "# printing the expected output\n",
    "# print(\"Expected Output of the with one hidden layer : \", outputj)\n",
    "if(outputj>outputj1):\n",
    "    outputj=1\n",
    "    outputj1=0\n",
    "    outputj2=0\n",
    "    outputj3 = 1\n",
    "else:\n",
    "    outputj=0\n",
    "    outputj1=1\n",
    "    outputj2=1\n",
    "    outputj3 = 0\n",
    "   \n",
    "\n",
    "print(\"Gender for Ron: \",outputj)\n",
    "print(\"Gender for Rita: \",outputj1)\n",
    "print(\"Gender for Saras: \",outputj2)\n",
    "print(\"Gender for Tom: \",outputj3)"
   ]
  },
  {
   "cell_type": "code",
   "execution_count": null,
   "id": "e4d170d7",
   "metadata": {},
   "outputs": [],
   "source": []
  }
 ],
 "metadata": {
  "kernelspec": {
   "display_name": "Python 3",
   "language": "python",
   "name": "python3"
  },
  "language_info": {
   "codemirror_mode": {
    "name": "ipython",
    "version": 3
   },
   "file_extension": ".py",
   "mimetype": "text/x-python",
   "name": "python",
   "nbconvert_exporter": "python",
   "pygments_lexer": "ipython3",
   "version": "3.8.8"
  },
  "vscode": {
   "interpreter": {
    "hash": "62a39ce5829de62db6285005b4c90a1fe17d1afd18d08fdfe545fe0ca1942d25"
   }
  }
 },
 "nbformat": 4,
 "nbformat_minor": 5
}
