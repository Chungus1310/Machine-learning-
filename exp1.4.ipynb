{
 "cells": [
  {
   "cell_type": "code",
   "execution_count": 73,
   "metadata": {},
   "outputs": [],
   "source": [
    "import nltk\n",
    "from nltk.corpus import stopwords\n",
    "text = \"I love india as my country.\""
   ]
  },
  {
   "cell_type": "code",
   "execution_count": 74,
   "metadata": {},
   "outputs": [],
   "source": [
    "# def ngramgen(text,n):\n",
    "#     words = [word for word in text.split(\" \")] if word not in set(stopwords.words(\"english\"))\n",
    "#     print(\" \", words)\n",
    "#     temp = zip(*[words[i:] for i in range(0,ngram)])\n",
    "#     ans = [' '.join(ngram) for ngram in temp]\n",
    "#     return ans"
   ]
  },
  {
   "cell_type": "code",
   "execution_count": 75,
   "metadata": {},
   "outputs": [
    {
     "name": "stdout",
     "output_type": "stream",
     "text": [
      "('I', 'love', 'india')\n",
      "('love', 'india', 'as')\n",
      "('india', 'as', 'my')\n",
      "('as', 'my', 'country')\n",
      "('my', 'country', '.')\n"
     ]
    }
   ],
   "source": [
    "from nltk.util import ngrams\n",
    "ngram=ngrams(sequence=nltk.word_tokenize(text), n=3)\n",
    "for grams in ngram:\n",
    "    print(grams)"
   ]
  },
  {
   "cell_type": "code",
   "execution_count": 76,
   "metadata": {},
   "outputs": [
    {
     "name": "stdout",
     "output_type": "stream",
     "text": [
      "['I', 'love', 'india', 'country.']\n"
     ]
    }
   ],
   "source": [
    "text = text.split()\n",
    "filtered=[]\n",
    "stop_words = set(stopwords.words('english'))\n",
    "for w in text:\n",
    "    if w not in stop_words:\n",
    "        if (w != \" \"):\n",
    "            filtered.append(w)\n",
    "print(filtered)"
   ]
  },
  {
   "cell_type": "code",
   "execution_count": 77,
   "metadata": {},
   "outputs": [
    {
     "name": "stdout",
     "output_type": "stream",
     "text": [
      "[('I',), ('love',), ('india',), ('country.',)]\n",
      "[('I', 'love'), ('love', 'india'), ('india', 'country.')]\n",
      "[('I', 'love', 'india'), ('love', 'india', 'country.')]\n"
     ]
    }
   ],
   "source": [
    "def generategrams(text, n):\n",
    "    unigrams = ngrams(text, n)\n",
    "    return [unigram for unigram in unigrams]\n",
    "print(generategrams(filtered,1))\n",
    "print(generategrams(filtered,2))\n",
    "print(generategrams(filtered,3))"
   ]
  },
  {
   "cell_type": "code",
   "execution_count": null,
   "metadata": {},
   "outputs": [],
   "source": []
  }
 ],
 "metadata": {
  "kernelspec": {
   "display_name": "Python 3",
   "language": "python",
   "name": "python3"
  },
  "language_info": {
   "codemirror_mode": {
    "name": "ipython",
    "version": 3
   },
   "file_extension": ".py",
   "mimetype": "text/x-python",
   "name": "python",
   "nbconvert_exporter": "python",
   "pygments_lexer": "ipython3",
   "version": "3.7.1"
  }
 },
 "nbformat": 4,
 "nbformat_minor": 2
}
