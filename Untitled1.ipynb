{
  "nbformat": 4,
  "nbformat_minor": 0,
  "metadata": {
    "colab": {
      "provenance": []
    },
    "kernelspec": {
      "name": "python3",
      "display_name": "Python 3"
    },
    "language_info": {
      "name": "python"
    }
  },
  "cells": [
    {
      "cell_type": "code",
      "execution_count": 1,
      "metadata": {
        "colab": {
          "base_uri": "https://localhost:8080/"
        },
        "id": "zm92nIDTW-Qj",
        "outputId": "c105a58b-debe-496a-aa7a-0d5e4fdd7f74"
      },
      "outputs": [
        {
          "output_type": "stream",
          "name": "stderr",
          "text": [
            "[nltk_data] Downloading package punkt to /root/nltk_data...\n",
            "[nltk_data]   Unzipping tokenizers/punkt.zip.\n",
            "[nltk_data] Downloading package averaged_perceptron_tagger to\n",
            "[nltk_data]     /root/nltk_data...\n",
            "[nltk_data]   Unzipping taggers/averaged_perceptron_tagger.zip.\n"
          ]
        },
        {
          "output_type": "stream",
          "name": "stdout",
          "text": [
            "Enter a sentence or paragraph: Bob made a book collector happy\n",
            "NLTK POS tags: [('Bob', 'NNP'), ('made', 'VBD'), ('a', 'DT'), ('book', 'NN'), ('collector', 'NN'), ('happy', 'JJ')]\n",
            "SpaCy POS tags: [('Bob', 'PROPN'), ('made', 'VERB'), ('a', 'DET'), ('book', 'NOUN'), ('collector', 'NOUN'), ('happy', 'ADJ')]\n",
            "TextBlob POS tags: [('Bob', 'NNP'), ('made', 'VBD'), ('a', 'DT'), ('book', 'NN'), ('collector', 'NN'), ('happy', 'JJ')]\n"
          ]
        }
      ],
      "source": [
        "import nltk\n",
        "import spacy\n",
        "from textblob import TextBlob\n",
        "\n",
        "# download necessary NLTK corpus\n",
        "nltk.download('punkt')\n",
        "nltk.download('averaged_perceptron_tagger')\n",
        "\n",
        "# load SpaCy model\n",
        "nlp = spacy.load(\"en_core_web_sm\")\n",
        "\n",
        "# take input text from user\n",
        "while True:\n",
        "    try:\n",
        "        text = input(\"Enter a sentence or paragraph: \")\n",
        "        if text.strip() == \"\":\n",
        "            raise ValueError(\"Input cannot be empty\")\n",
        "        break\n",
        "    except ValueError as ve:\n",
        "        print(\"Invalid input:\", ve)\n",
        "\n",
        "# apply POS tagging using NLTK\n",
        "nltk_tags = nltk.pos_tag(nltk.word_tokenize(text))\n",
        "print(\"NLTK POS tags:\", nltk_tags)\n",
        "\n",
        "# apply POS tagging using SpaCy\n",
        "spacy_doc = nlp(text)\n",
        "spacy_tags = [(token.text, token.pos_) for token in spacy_doc]\n",
        "print(\"SpaCy POS tags:\", spacy_tags)\n",
        "\n",
        "# apply POS tagging using TextBlob\n",
        "textblob_doc = TextBlob(text)\n",
        "textblob_tags = textblob_doc.tags\n",
        "print(\"TextBlob POS tags:\", textblob_tags)"
      ]
    }
  ]
}