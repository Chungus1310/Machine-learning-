{
 "cells": [
  {
   "cell_type": "code",
   "execution_count": 9,
   "metadata": {},
   "outputs": [],
   "source": [
    "import nltk\n",
    "from nltk import sent_tokenize, word_tokenize"
   ]
  },
  {
   "cell_type": "code",
   "execution_count": 13,
   "metadata": {},
   "outputs": [
    {
     "data": {
      "text/plain": [
       "['hello this is a random sentence with sentences that is sentencing.',\n",
       " 'This is second sentence with pythons in pythonly location doing python things.']"
      ]
     },
     "execution_count": 13,
     "metadata": {},
     "output_type": "execute_result"
    }
   ],
   "source": [
    "text = \"hello this is a random sentence with sentences that is sentencing. This is second sentence with pythons in pythonly location doing python things.\"\n",
    "sent_tokenize(text)"
   ]
  },
  {
   "cell_type": "code",
   "execution_count": 14,
   "metadata": {},
   "outputs": [],
   "source": [
    "stemmed = word_tokenize(text)"
   ]
  },
  {
   "cell_type": "code",
   "execution_count": 15,
   "metadata": {},
   "outputs": [],
   "source": [
    "from nltk import PorterStemmer\n",
    "p = PorterStemmer()"
   ]
  },
  {
   "cell_type": "code",
   "execution_count": 32,
   "metadata": {},
   "outputs": [
    {
     "name": "stdout",
     "output_type": "stream",
     "text": [
      "hello\n",
      "thi\n",
      "is\n",
      "a\n",
      "random\n",
      "sentenc\n",
      "with\n",
      "sentenc\n",
      "that\n",
      "is\n",
      "sentenc\n",
      ".\n",
      "thi\n",
      "is\n",
      "second\n",
      "sentenc\n",
      "with\n",
      "python\n",
      "in\n",
      "pythonli\n",
      "locat\n",
      "do\n",
      "python\n",
      "thing\n",
      ".\n"
     ]
    }
   ],
   "source": [
    "porter_stem = []\n",
    "for words in stemmed:\n",
    "    porter_stem.append(p.stem(words))\n",
    "    print(p.stem(words))"
   ]
  },
  {
   "cell_type": "code",
   "execution_count": 33,
   "metadata": {},
   "outputs": [],
   "source": [
    "from nltk import SnowballStemmer\n",
    "s = SnowballStemmer('english')"
   ]
  },
  {
   "cell_type": "code",
   "execution_count": 34,
   "metadata": {},
   "outputs": [
    {
     "name": "stdout",
     "output_type": "stream",
     "text": [
      "hello\n",
      "this\n",
      "is\n",
      "a\n",
      "random\n",
      "sentenc\n",
      "with\n",
      "sentenc\n",
      "that\n",
      "is\n",
      "sentenc\n",
      ".\n",
      "this\n",
      "is\n",
      "second\n",
      "sentenc\n",
      "with\n",
      "python\n",
      "in\n",
      "python\n",
      "locat\n",
      "do\n",
      "python\n",
      "thing\n",
      ".\n"
     ]
    }
   ],
   "source": [
    "snowball_stem = []\n",
    "for words in stemmed:\n",
    "    snowball_stem.append(s.stem(words))\n",
    "    print(s.stem(words))"
   ]
  },
  {
   "cell_type": "code",
   "execution_count": 35,
   "metadata": {},
   "outputs": [],
   "source": [
    "from nltk import WordNetLemmatizer\n",
    "l = WordNetLemmatizer()"
   ]
  },
  {
   "cell_type": "code",
   "execution_count": 36,
   "metadata": {},
   "outputs": [
    {
     "name": "stdout",
     "output_type": "stream",
     "text": [
      "hello\n",
      "this\n",
      "is\n",
      "a\n",
      "random\n",
      "sentence\n",
      "with\n",
      "sentence\n",
      "that\n",
      "is\n",
      "sentencing\n",
      ".\n",
      "This\n",
      "is\n",
      "second\n",
      "sentence\n",
      "with\n",
      "python\n",
      "in\n",
      "pythonly\n",
      "location\n",
      "doing\n",
      "python\n",
      "thing\n",
      ".\n"
     ]
    }
   ],
   "source": [
    "lem = []\n",
    "for words in stemmed:\n",
    "    lem.append(l.lemmatize(words))\n",
    "    print(l.lemmatize(words))"
   ]
  },
  {
   "cell_type": "code",
   "execution_count": 38,
   "metadata": {},
   "outputs": [
    {
     "name": "stdout",
     "output_type": "stream",
     "text": [
      "Porter stemmer result :  ['hello', 'thi', 'is', 'a', 'random', 'sentenc', 'with', 'sentenc', 'that', 'is', 'sentenc', '.', 'thi', 'is', 'second', 'sentenc', 'with', 'python', 'in', 'pythonli', 'locat', 'do', 'python', 'thing', '.'] /nSnowball stemmer result :  ['hello', 'this', 'is', 'a', 'random', 'sentenc', 'with', 'sentenc', 'that', 'is', 'sentenc', '.', 'this', 'is', 'second', 'sentenc', 'with', 'python', 'in', 'python', 'locat', 'do', 'python', 'thing', '.'] \n",
      "Lemmatizer result :  ['hello', 'this', 'is', 'a', 'random', 'sentence', 'with', 'sentence', 'that', 'is', 'sentencing', '.', 'This', 'is', 'second', 'sentence', 'with', 'python', 'in', 'pythonly', 'location', 'doing', 'python', 'thing', '.']\n"
     ]
    }
   ],
   "source": [
    "print(\"Porter stemmer result : \", porter_stem,\"/nSnowball stemmer result : \",snowball_stem,\"\\nLemmatizer result : \",lem)"
   ]
  },
  {
   "cell_type": "code",
   "execution_count": 43,
   "metadata": {},
   "outputs": [
    {
     "name": "stdout",
     "output_type": "stream",
     "text": [
      ". \n",
      " . \n",
      " . \n",
      "\n",
      "thing \n",
      " thing \n",
      " thing \n",
      "\n",
      "python \n",
      " python \n",
      " python \n",
      "\n",
      "do \n",
      " do \n",
      " doing \n",
      "\n",
      "locat \n",
      " locat \n",
      " location \n",
      "\n",
      "pythonli \n",
      " python \n",
      " pythonly \n",
      "\n",
      "in \n",
      " in \n",
      " in \n",
      "\n",
      "python \n",
      " python \n",
      " python \n",
      "\n",
      "with \n",
      " with \n",
      " with \n",
      "\n",
      "sentenc \n",
      " sentenc \n",
      " sentence \n",
      "\n",
      "second \n",
      " second \n",
      " second \n",
      "\n",
      "is \n",
      " is \n",
      " is \n",
      "\n",
      "thi \n",
      " this \n",
      " This \n",
      "\n",
      ". \n",
      " . \n",
      " . \n",
      "\n",
      "sentenc \n",
      " sentenc \n",
      " sentencing \n",
      "\n",
      "is \n",
      " is \n",
      " is \n",
      "\n",
      "that \n",
      " that \n",
      " that \n",
      "\n",
      "sentenc \n",
      " sentenc \n",
      " sentence \n",
      "\n",
      "with \n",
      " with \n",
      " with \n",
      "\n",
      "sentenc \n",
      " sentenc \n",
      " sentence \n",
      "\n",
      "random \n",
      " random \n",
      " random \n",
      "\n",
      "a \n",
      " a \n",
      " a \n",
      "\n",
      "is \n",
      " is \n",
      " is \n",
      "\n",
      "thi \n",
      " this \n",
      " this \n",
      "\n",
      "hello \n",
      " hello \n",
      " hello \n",
      "\n"
     ]
    }
   ],
   "source": [
    "ctr = len(porter_stem)\n",
    "for words in porter_stem:\n",
    "    ctr = ctr-1\n",
    "    print(porter_stem[ctr],\"\\n\",snowball_stem[ctr],\"\\n\",lem[ctr],\"\\n\")\n",
    "    \n",
    "    "
   ]
  },
  {
   "cell_type": "code",
   "execution_count": 85,
   "metadata": {},
   "outputs": [
    {
     "name": "stdout",
     "output_type": "stream",
     "text": [
      "hello\n",
      "random\n",
      "sentence\n",
      "sentences\n",
      "sentencing\n",
      ".\n",
      "This\n",
      "second\n",
      "sentence\n",
      "pythons\n",
      "pythonly\n",
      "location\n",
      "python\n",
      "things\n",
      ".\n"
     ]
    }
   ],
   "source": [
    "import requests\n",
    "import seaborn as sns\n",
    "from nltk import FreqDist\n",
    "from nltk.corpus import stopwords\n",
    "random = stopwords.words(\"english\")\n",
    "for w in stemmed:\n",
    "    if w not in random:\n",
    "        print(w)"
   ]
  },
  {
   "cell_type": "code",
   "execution_count": 86,
   "metadata": {},
   "outputs": [],
   "source": [
    "def plot_word_frequency(words,top_n=10):\n",
    "    word_freq = FreqDist(words)\n",
    "    labels = [element[0] for element in word_freq.most_common(top_n)]\n",
    "    counts = [element[1] for element in word_freq.most_common(top_n)]\n",
    "    plot = sns.barplot(x=labels, y=counts)\n",
    "    return plot"
   ]
  },
  {
   "cell_type": "code",
   "execution_count": 87,
   "metadata": {},
   "outputs": [
    {
     "name": "stdout",
     "output_type": "stream",
     "text": [
      "b\"Alice was beginning to get very tired of sitting by her sister on the bank, and of having nothing to do: once or twice she had peeped into the book her sister was reading, but it had no pictures or conversations in it, `and what is the use of a book,' thought Alice `without pictures or conversation?'\\nSo she was considering in her own mind (as well as she could, for the hot day made her feel very sleepy and stupid), whether the pleasure of making a daisy-chain would be worth the trouble of getting up and picking the daisies, when suddenly a White Rabbit with pink eyes ran close by her.\\n\\nThere was nothing so very remarkable in that; nor did Alice think it so very much out of the way to hear the Rabbit say to itself, `Oh dear! Oh dear! I shall be late!' (when she thought it over afterwards, it occurred to her that she ought to have wondered at this, but at the time it all seemed quite natural); but when the Rabbit actually took a watch out of its waistcoat-pocket, and looked at it, and then hurried on, Alice started to her feet, for it flashed across her mind that she had never before seen a rabbit with either a waistcoat-pocket, or a watch to take out of it, and burning with curiosity, she ran across the field after it, and fortunately was just in time to see it pop down a large rabbit-hole under the hedge.\"\n"
     ]
    }
   ],
   "source": [
    "alice = requests.get(\"https://gist.githubusercontent.com/andersem/1462444/raw/088c12e7f74fcff9be6c4faa556f961cb7a675bd/alice.txt\")\n",
    "print(alice.content)\n",
    "alice = alice.content"
   ]
  },
  {
   "cell_type": "code",
   "execution_count": 88,
   "metadata": {},
   "outputs": [
    {
     "data": {
      "text/plain": [
       "<matplotlib.axes._subplots.AxesSubplot at 0x24cfdbec320>"
      ]
     },
     "execution_count": 88,
     "metadata": {},
     "output_type": "execute_result"
    },
    {
     "data": {
      "image/png": "[encoded data removed]",
      "text/plain": [
       "<Figure size 432x288 with 1 Axes>"
      ]
     },
     "metadata": {
      "needs_background": "light"
     },
     "output_type": "display_data"
    }
   ],
   "source": [
    "alice = str(alice)\n",
    "alice_tokenize = word_tokenize(alice)\n",
    "alice_words = alice.split()\n",
    "plot_word_frequency(alice_words,15)\n"
   ]
  },
  {
   "cell_type": "code",
   "execution_count": 89,
   "metadata": {},
   "outputs": [
    {
     "name": "stdout",
     "output_type": "stream",
     "text": [
      "b\n",
      "''\n",
      "Alice\n",
      "beginning\n",
      "get\n",
      "tired\n",
      "sitting\n",
      "sister\n",
      "bank\n",
      ",\n",
      "nothing\n",
      ":\n",
      "twice\n",
      "peeped\n",
      "book\n",
      "sister\n",
      "reading\n",
      ",\n",
      "pictures\n",
      "conversations\n",
      ",\n",
      "`\n",
      "use\n",
      "book\n",
      ",\n",
      "'\n",
      "thought\n",
      "Alice\n",
      "`\n",
      "without\n",
      "pictures\n",
      "conversation\n",
      "?\n",
      "'\\nSo\n",
      "considering\n",
      "mind\n",
      "(\n",
      "well\n",
      "could\n",
      ",\n",
      "hot\n",
      "day\n",
      "made\n",
      "feel\n",
      "sleepy\n",
      "stupid\n",
      ")\n",
      ",\n",
      "whether\n",
      "pleasure\n",
      "making\n",
      "daisy-chain\n",
      "would\n",
      "worth\n",
      "trouble\n",
      "getting\n",
      "picking\n",
      "daisies\n",
      ",\n",
      "suddenly\n",
      "White\n",
      "Rabbit\n",
      "pink\n",
      "eyes\n",
      "ran\n",
      "close\n",
      "her.\\n\\nThere\n",
      "nothing\n",
      "remarkable\n",
      ";\n",
      "Alice\n",
      "think\n",
      "much\n",
      "way\n",
      "hear\n",
      "Rabbit\n",
      "say\n",
      ",\n",
      "`\n",
      "Oh\n",
      "dear\n",
      "!\n",
      "Oh\n",
      "dear\n",
      "!\n",
      "I\n",
      "shall\n",
      "late\n",
      "!\n",
      "'\n",
      "(\n",
      "thought\n",
      "afterwards\n",
      ",\n",
      "occurred\n",
      "ought\n",
      "wondered\n",
      ",\n",
      "time\n",
      "seemed\n",
      "quite\n",
      "natural\n",
      ")\n",
      ";\n",
      "Rabbit\n",
      "actually\n",
      "took\n",
      "watch\n",
      "waistcoat-pocket\n",
      ",\n",
      "looked\n",
      ",\n",
      "hurried\n",
      ",\n",
      "Alice\n",
      "started\n",
      "feet\n",
      ",\n",
      "flashed\n",
      "across\n",
      "mind\n",
      "never\n",
      "seen\n",
      "rabbit\n",
      "either\n",
      "waistcoat-pocket\n",
      ",\n",
      "watch\n",
      "take\n",
      ",\n",
      "burning\n",
      "curiosity\n",
      ",\n",
      "ran\n",
      "across\n",
      "field\n",
      ",\n",
      "fortunately\n",
      "time\n",
      "see\n",
      "pop\n",
      "large\n",
      "rabbit-hole\n",
      "hedge\n",
      ".\n",
      "''\n"
     ]
    }
   ],
   "source": [
    "random = stopwords.words(\"english\")\n",
    "for w in alice_tokenize:\n",
    "    if w not in random:\n",
    "        print(w)"
   ]
  },
  {
   "cell_type": "code",
   "execution_count": 90,
   "metadata": {},
   "outputs": [],
   "source": [
    "alice2 = alice.lower()\n",
    "alice_tokenize2 = word_tokenize(alice2)\n",
    "\n"
   ]
  },
  {
   "cell_type": "code",
   "execution_count": 91,
   "metadata": {},
   "outputs": [
    {
     "name": "stdout",
     "output_type": "stream",
     "text": [
      "b\n",
      "''\n",
      "alice\n",
      "beginning\n",
      "get\n",
      "tired\n",
      "sitting\n",
      "sister\n",
      "bank\n",
      ",\n",
      "nothing\n",
      ":\n",
      "twice\n",
      "peeped\n",
      "book\n",
      "sister\n",
      "reading\n",
      ",\n",
      "pictures\n",
      "conversations\n",
      ",\n",
      "`\n",
      "use\n",
      "book\n",
      ",\n",
      "'\n",
      "thought\n",
      "alice\n",
      "`\n",
      "without\n",
      "pictures\n",
      "conversation\n",
      "?\n",
      "'\\nso\n",
      "considering\n",
      "mind\n",
      "(\n",
      "well\n",
      "could\n",
      ",\n",
      "hot\n",
      "day\n",
      "made\n",
      "feel\n",
      "sleepy\n",
      "stupid\n",
      ")\n",
      ",\n",
      "whether\n",
      "pleasure\n",
      "making\n",
      "daisy-chain\n",
      "would\n",
      "worth\n",
      "trouble\n",
      "getting\n",
      "picking\n",
      "daisies\n",
      ",\n",
      "suddenly\n",
      "white\n",
      "rabbit\n",
      "pink\n",
      "eyes\n",
      "ran\n",
      "close\n",
      "her.\\n\\nthere\n",
      "nothing\n",
      "remarkable\n",
      ";\n",
      "alice\n",
      "think\n",
      "much\n",
      "way\n",
      "hear\n",
      "rabbit\n",
      "say\n",
      ",\n",
      "`\n",
      "oh\n",
      "dear\n",
      "!\n",
      "oh\n",
      "dear\n",
      "!\n",
      "shall\n",
      "late\n",
      "!\n",
      "'\n",
      "(\n",
      "thought\n",
      "afterwards\n",
      ",\n",
      "occurred\n",
      "ought\n",
      "wondered\n",
      ",\n",
      "time\n",
      "seemed\n",
      "quite\n",
      "natural\n",
      ")\n",
      ";\n",
      "rabbit\n",
      "actually\n",
      "took\n",
      "watch\n",
      "waistcoat-pocket\n",
      ",\n",
      "looked\n",
      ",\n",
      "hurried\n",
      ",\n",
      "alice\n",
      "started\n",
      "feet\n",
      ",\n",
      "flashed\n",
      "across\n",
      "mind\n",
      "never\n",
      "seen\n",
      "rabbit\n",
      "either\n",
      "waistcoat-pocket\n",
      ",\n",
      "watch\n",
      "take\n",
      ",\n",
      "burning\n",
      "curiosity\n",
      ",\n",
      "ran\n",
      "across\n",
      "field\n",
      ",\n",
      "fortunately\n",
      "time\n",
      "see\n",
      "pop\n",
      "large\n",
      "rabbit-hole\n",
      "hedge\n",
      ".\n",
      "''\n"
     ]
    },
    {
     "data": {
      "text/plain": [
       "<matplotlib.axes._subplots.AxesSubplot at 0x24cfdbec8d0>"
      ]
     },
     "execution_count": 91,
     "metadata": {},
     "output_type": "execute_result"
    },
    {
     "data": {
      "image/png": "[encoded data removed]",
      "text/plain": [
       "<Figure size 432x288 with 1 Axes>"
      ]
     },
     "metadata": {
      "needs_background": "light"
     },
     "output_type": "display_data"
    }
   ],
   "source": [
    "random = stopwords.words(\"english\")\n",
    "for w in alice_tokenize2:\n",
    "    if w not in random:\n",
    "        print(w)\n",
    "alice_words = alice.split()\n",
    "plot_word_frequency(alice_words,15)"
   ]
  },
  {
   "cell_type": "code",
   "execution_count": 92,
   "metadata": {},
   "outputs": [
    {
     "data": {
      "text/plain": [
       "<matplotlib.axes._subplots.AxesSubplot at 0x24cfdbe51d0>"
      ]
     },
     "execution_count": 92,
     "metadata": {},
     "output_type": "execute_result"
    },
    {
     "data": {
      "image/png": "[encoded data removed]",
      "text/plain": [
       "<Figure size 432x288 with 1 Axes>"
      ]
     },
     "metadata": {
      "needs_background": "light"
     },
     "output_type": "display_data"
    }
   ],
   "source": [
    "alice_words2 = alice2.split()\n",
    "plot_word_frequency(alice_words2,15)"
   ]
  },
  {
   "cell_type": "code",
   "execution_count": 84,
   "metadata": {},
   "outputs": [],
   "source": []
  },
  {
   "cell_type": "code",
   "execution_count": null,
   "metadata": {},
   "outputs": [],
   "source": []
  },
  {
   "cell_type": "code",
   "execution_count": null,
   "metadata": {},
   "outputs": [],
   "source": []
  }
 ],
 "metadata": {
  "kernelspec": {
   "display_name": "Python 3",
   "language": "python",
   "name": "python3"
  },
  "language_info": {
   "codemirror_mode": {
    "name": "ipython",
    "version": 3
   },
   "file_extension": ".py",
   "mimetype": "text/x-python",
   "name": "python",
   "nbconvert_exporter": "python",
   "pygments_lexer": "ipython3",
   "version": "3.7.1"
  }
 },
 "nbformat": 4,
 "nbformat_minor": 2
}
