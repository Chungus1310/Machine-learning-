{
 "cells": [
  {
   "cell_type": "markdown",
   "metadata": {},
   "source": [
    "## Student Name: DEKKA SRIDHAR                           \n",
    "## UID: 20BCS6174\n",
    "## Branch: BE-CSE               \n",
    "## Section/Group: AIML-1B\n",
    "## Semester: 4th           \n",
    "## Date of Performance:21/03/2022\n",
    "## Subject Name: Machine Learning Lab\n",
    "## -------------------------------------------------------------"
   ]
  },
  {
   "cell_type": "markdown",
   "metadata": {},
   "source": [
    "## Logistic Regression on iris Dataset"
   ]
  },
  {
   "cell_type": "markdown",
   "metadata": {},
   "source": [
    "## Importing the libraries"
   ]
  },
  {
   "cell_type": "code",
   "execution_count": 1,
   "metadata": {},
   "outputs": [],
   "source": [
    "import pandas as pd\n",
    "import numpy as np\n",
    "import matplotlib.pyplot as plt\n",
    "from sklearn import linear_model  "
   ]
  },
  {
   "cell_type": "markdown",
   "metadata": {},
   "source": [
    "## Showing present Directory "
   ]
  },
  {
   "cell_type": "code",
   "execution_count": 2,
   "metadata": {},
   "outputs": [
    {
     "data": {
      "text/plain": [
       "'C:\\\\Users\\\\Hp\\\\OneDrive\\\\Semister 4\\\\Machine_learning_codes'"
      ]
     },
     "execution_count": 2,
     "metadata": {},
     "output_type": "execute_result"
    }
   ],
   "source": [
    "%pwd"
   ]
  },
  {
   "cell_type": "markdown",
   "metadata": {},
   "source": [
    "## Importing the dataset"
   ]
  },
  {
   "cell_type": "code",
   "execution_count": 3,
   "metadata": {},
   "outputs": [
    {
     "data": {
      "text/html": [
       "<div>\n",
       "<style scoped>\n",
       "    .dataframe tbody tr th:only-of-type {\n",
       "        vertical-align: middle;\n",
       "    }\n",
       "\n",
       "    .dataframe tbody tr th {\n",
       "        vertical-align: top;\n",
       "    }\n",
       "\n",
       "    .dataframe thead th {\n",
       "        text-align: right;\n",
       "    }\n",
       "</style>\n",
       "<table border=\"1\" class=\"dataframe\">\n",
       "  <thead>\n",
       "    <tr style=\"text-align: right;\">\n",
       "      <th></th>\n",
       "      <th>sepallength</th>\n",
       "      <th>sepalwidth</th>\n",
       "      <th>petallength</th>\n",
       "      <th>petalwidth</th>\n",
       "      <th>variety</th>\n",
       "    </tr>\n",
       "  </thead>\n",
       "  <tbody>\n",
       "    <tr>\n",
       "      <th>0</th>\n",
       "      <td>5.1</td>\n",
       "      <td>3.5</td>\n",
       "      <td>1.4</td>\n",
       "      <td>0.2</td>\n",
       "      <td>Setosa</td>\n",
       "    </tr>\n",
       "    <tr>\n",
       "      <th>1</th>\n",
       "      <td>4.9</td>\n",
       "      <td>3.0</td>\n",
       "      <td>1.4</td>\n",
       "      <td>0.2</td>\n",
       "      <td>Setosa</td>\n",
       "    </tr>\n",
       "    <tr>\n",
       "      <th>2</th>\n",
       "      <td>4.7</td>\n",
       "      <td>3.2</td>\n",
       "      <td>1.3</td>\n",
       "      <td>0.2</td>\n",
       "      <td>Setosa</td>\n",
       "    </tr>\n",
       "    <tr>\n",
       "      <th>3</th>\n",
       "      <td>4.6</td>\n",
       "      <td>3.1</td>\n",
       "      <td>1.5</td>\n",
       "      <td>0.2</td>\n",
       "      <td>Setosa</td>\n",
       "    </tr>\n",
       "    <tr>\n",
       "      <th>4</th>\n",
       "      <td>5.0</td>\n",
       "      <td>3.6</td>\n",
       "      <td>1.4</td>\n",
       "      <td>0.2</td>\n",
       "      <td>Setosa</td>\n",
       "    </tr>\n",
       "    <tr>\n",
       "      <th>...</th>\n",
       "      <td>...</td>\n",
       "      <td>...</td>\n",
       "      <td>...</td>\n",
       "      <td>...</td>\n",
       "      <td>...</td>\n",
       "    </tr>\n",
       "    <tr>\n",
       "      <th>145</th>\n",
       "      <td>6.7</td>\n",
       "      <td>3.0</td>\n",
       "      <td>5.2</td>\n",
       "      <td>2.3</td>\n",
       "      <td>Virginica</td>\n",
       "    </tr>\n",
       "    <tr>\n",
       "      <th>146</th>\n",
       "      <td>6.3</td>\n",
       "      <td>2.5</td>\n",
       "      <td>5.0</td>\n",
       "      <td>1.9</td>\n",
       "      <td>Virginica</td>\n",
       "    </tr>\n",
       "    <tr>\n",
       "      <th>147</th>\n",
       "      <td>6.5</td>\n",
       "      <td>3.0</td>\n",
       "      <td>5.2</td>\n",
       "      <td>2.0</td>\n",
       "      <td>Virginica</td>\n",
       "    </tr>\n",
       "    <tr>\n",
       "      <th>148</th>\n",
       "      <td>6.2</td>\n",
       "      <td>3.4</td>\n",
       "      <td>5.4</td>\n",
       "      <td>2.3</td>\n",
       "      <td>Virginica</td>\n",
       "    </tr>\n",
       "    <tr>\n",
       "      <th>149</th>\n",
       "      <td>5.9</td>\n",
       "      <td>3.0</td>\n",
       "      <td>5.1</td>\n",
       "      <td>1.8</td>\n",
       "      <td>Virginica</td>\n",
       "    </tr>\n",
       "  </tbody>\n",
       "</table>\n",
       "<p>150 rows × 5 columns</p>\n",
       "</div>"
      ],
      "text/plain": [
       "     sepallength  sepalwidth  petallength  petalwidth    variety\n",
       "0            5.1         3.5          1.4         0.2     Setosa\n",
       "1            4.9         3.0          1.4         0.2     Setosa\n",
       "2            4.7         3.2          1.3         0.2     Setosa\n",
       "3            4.6         3.1          1.5         0.2     Setosa\n",
       "4            5.0         3.6          1.4         0.2     Setosa\n",
       "..           ...         ...          ...         ...        ...\n",
       "145          6.7         3.0          5.2         2.3  Virginica\n",
       "146          6.3         2.5          5.0         1.9  Virginica\n",
       "147          6.5         3.0          5.2         2.0  Virginica\n",
       "148          6.2         3.4          5.4         2.3  Virginica\n",
       "149          5.9         3.0          5.1         1.8  Virginica\n",
       "\n",
       "[150 rows x 5 columns]"
      ]
     },
     "execution_count": 3,
     "metadata": {},
     "output_type": "execute_result"
    }
   ],
   "source": [
    "df=pd.read_csv('iris.csv')\n",
    "df"
   ]
  },
  {
   "cell_type": "code",
   "execution_count": 4,
   "metadata": {},
   "outputs": [
    {
     "data": {
      "text/html": [
       "<div>\n",
       "<style scoped>\n",
       "    .dataframe tbody tr th:only-of-type {\n",
       "        vertical-align: middle;\n",
       "    }\n",
       "\n",
       "    .dataframe tbody tr th {\n",
       "        vertical-align: top;\n",
       "    }\n",
       "\n",
       "    .dataframe thead th {\n",
       "        text-align: right;\n",
       "    }\n",
       "</style>\n",
       "<table border=\"1\" class=\"dataframe\">\n",
       "  <thead>\n",
       "    <tr style=\"text-align: right;\">\n",
       "      <th></th>\n",
       "      <th>sepallength</th>\n",
       "      <th>sepalwidth</th>\n",
       "      <th>petallength</th>\n",
       "      <th>petalwidth</th>\n",
       "      <th>variety</th>\n",
       "    </tr>\n",
       "  </thead>\n",
       "  <tbody>\n",
       "    <tr>\n",
       "      <th>0</th>\n",
       "      <td>5.1</td>\n",
       "      <td>3.5</td>\n",
       "      <td>1.4</td>\n",
       "      <td>0.2</td>\n",
       "      <td>Setosa</td>\n",
       "    </tr>\n",
       "    <tr>\n",
       "      <th>1</th>\n",
       "      <td>4.9</td>\n",
       "      <td>3.0</td>\n",
       "      <td>1.4</td>\n",
       "      <td>0.2</td>\n",
       "      <td>Setosa</td>\n",
       "    </tr>\n",
       "    <tr>\n",
       "      <th>2</th>\n",
       "      <td>4.7</td>\n",
       "      <td>3.2</td>\n",
       "      <td>1.3</td>\n",
       "      <td>0.2</td>\n",
       "      <td>Setosa</td>\n",
       "    </tr>\n",
       "    <tr>\n",
       "      <th>3</th>\n",
       "      <td>4.6</td>\n",
       "      <td>3.1</td>\n",
       "      <td>1.5</td>\n",
       "      <td>0.2</td>\n",
       "      <td>Setosa</td>\n",
       "    </tr>\n",
       "    <tr>\n",
       "      <th>4</th>\n",
       "      <td>5.0</td>\n",
       "      <td>3.6</td>\n",
       "      <td>1.4</td>\n",
       "      <td>0.2</td>\n",
       "      <td>Setosa</td>\n",
       "    </tr>\n",
       "  </tbody>\n",
       "</table>\n",
       "</div>"
      ],
      "text/plain": [
       "   sepallength  sepalwidth  petallength  petalwidth variety\n",
       "0          5.1         3.5          1.4         0.2  Setosa\n",
       "1          4.9         3.0          1.4         0.2  Setosa\n",
       "2          4.7         3.2          1.3         0.2  Setosa\n",
       "3          4.6         3.1          1.5         0.2  Setosa\n",
       "4          5.0         3.6          1.4         0.2  Setosa"
      ]
     },
     "execution_count": 4,
     "metadata": {},
     "output_type": "execute_result"
    }
   ],
   "source": [
    "df.head()"
   ]
  },
  {
   "cell_type": "code",
   "execution_count": 5,
   "metadata": {},
   "outputs": [
    {
     "data": {
      "text/html": [
       "<div>\n",
       "<style scoped>\n",
       "    .dataframe tbody tr th:only-of-type {\n",
       "        vertical-align: middle;\n",
       "    }\n",
       "\n",
       "    .dataframe tbody tr th {\n",
       "        vertical-align: top;\n",
       "    }\n",
       "\n",
       "    .dataframe thead th {\n",
       "        text-align: right;\n",
       "    }\n",
       "</style>\n",
       "<table border=\"1\" class=\"dataframe\">\n",
       "  <thead>\n",
       "    <tr style=\"text-align: right;\">\n",
       "      <th></th>\n",
       "      <th>sepallength</th>\n",
       "      <th>sepalwidth</th>\n",
       "      <th>petallength</th>\n",
       "      <th>petalwidth</th>\n",
       "      <th>variety</th>\n",
       "    </tr>\n",
       "  </thead>\n",
       "  <tbody>\n",
       "    <tr>\n",
       "      <th>145</th>\n",
       "      <td>6.7</td>\n",
       "      <td>3.0</td>\n",
       "      <td>5.2</td>\n",
       "      <td>2.3</td>\n",
       "      <td>Virginica</td>\n",
       "    </tr>\n",
       "    <tr>\n",
       "      <th>146</th>\n",
       "      <td>6.3</td>\n",
       "      <td>2.5</td>\n",
       "      <td>5.0</td>\n",
       "      <td>1.9</td>\n",
       "      <td>Virginica</td>\n",
       "    </tr>\n",
       "    <tr>\n",
       "      <th>147</th>\n",
       "      <td>6.5</td>\n",
       "      <td>3.0</td>\n",
       "      <td>5.2</td>\n",
       "      <td>2.0</td>\n",
       "      <td>Virginica</td>\n",
       "    </tr>\n",
       "    <tr>\n",
       "      <th>148</th>\n",
       "      <td>6.2</td>\n",
       "      <td>3.4</td>\n",
       "      <td>5.4</td>\n",
       "      <td>2.3</td>\n",
       "      <td>Virginica</td>\n",
       "    </tr>\n",
       "    <tr>\n",
       "      <th>149</th>\n",
       "      <td>5.9</td>\n",
       "      <td>3.0</td>\n",
       "      <td>5.1</td>\n",
       "      <td>1.8</td>\n",
       "      <td>Virginica</td>\n",
       "    </tr>\n",
       "  </tbody>\n",
       "</table>\n",
       "</div>"
      ],
      "text/plain": [
       "     sepallength  sepalwidth  petallength  petalwidth    variety\n",
       "145          6.7         3.0          5.2         2.3  Virginica\n",
       "146          6.3         2.5          5.0         1.9  Virginica\n",
       "147          6.5         3.0          5.2         2.0  Virginica\n",
       "148          6.2         3.4          5.4         2.3  Virginica\n",
       "149          5.9         3.0          5.1         1.8  Virginica"
      ]
     },
     "execution_count": 5,
     "metadata": {},
     "output_type": "execute_result"
    }
   ],
   "source": [
    "df.tail()"
   ]
  },
  {
   "cell_type": "code",
   "execution_count": 6,
   "metadata": {},
   "outputs": [
    {
     "data": {
      "text/plain": [
       "5"
      ]
     },
     "execution_count": 6,
     "metadata": {},
     "output_type": "execute_result"
    }
   ],
   "source": [
    "import math\n",
    "sepallength_median=math.floor(df.sepallength.median())\n",
    "sepallength_median "
   ]
  },
  {
   "cell_type": "code",
   "execution_count": 7,
   "metadata": {},
   "outputs": [
    {
     "data": {
      "text/plain": [
       "0      5.1\n",
       "1      4.9\n",
       "2      4.7\n",
       "3      4.6\n",
       "4      5.0\n",
       "      ... \n",
       "145    6.7\n",
       "146    6.3\n",
       "147    6.5\n",
       "148    6.2\n",
       "149    5.9\n",
       "Name: sepallength, Length: 150, dtype: float64"
      ]
     },
     "execution_count": 7,
     "metadata": {},
     "output_type": "execute_result"
    }
   ],
   "source": [
    "df.sepallength=df.sepallength.fillna(sepallength_median)\n",
    "df.sepallength"
   ]
  },
  {
   "cell_type": "code",
   "execution_count": 8,
   "metadata": {},
   "outputs": [
    {
     "data": {
      "text/html": [
       "<div>\n",
       "<style scoped>\n",
       "    .dataframe tbody tr th:only-of-type {\n",
       "        vertical-align: middle;\n",
       "    }\n",
       "\n",
       "    .dataframe tbody tr th {\n",
       "        vertical-align: top;\n",
       "    }\n",
       "\n",
       "    .dataframe thead th {\n",
       "        text-align: right;\n",
       "    }\n",
       "</style>\n",
       "<table border=\"1\" class=\"dataframe\">\n",
       "  <thead>\n",
       "    <tr style=\"text-align: right;\">\n",
       "      <th></th>\n",
       "      <th>sepallength</th>\n",
       "      <th>sepalwidth</th>\n",
       "      <th>petallength</th>\n",
       "      <th>petalwidth</th>\n",
       "      <th>variety</th>\n",
       "    </tr>\n",
       "  </thead>\n",
       "  <tbody>\n",
       "    <tr>\n",
       "      <th>0</th>\n",
       "      <td>5.1</td>\n",
       "      <td>3.5</td>\n",
       "      <td>1.4</td>\n",
       "      <td>0.2</td>\n",
       "      <td>Setosa</td>\n",
       "    </tr>\n",
       "    <tr>\n",
       "      <th>1</th>\n",
       "      <td>4.9</td>\n",
       "      <td>3.0</td>\n",
       "      <td>1.4</td>\n",
       "      <td>0.2</td>\n",
       "      <td>Setosa</td>\n",
       "    </tr>\n",
       "    <tr>\n",
       "      <th>2</th>\n",
       "      <td>4.7</td>\n",
       "      <td>3.2</td>\n",
       "      <td>1.3</td>\n",
       "      <td>0.2</td>\n",
       "      <td>Setosa</td>\n",
       "    </tr>\n",
       "    <tr>\n",
       "      <th>3</th>\n",
       "      <td>4.6</td>\n",
       "      <td>3.1</td>\n",
       "      <td>1.5</td>\n",
       "      <td>0.2</td>\n",
       "      <td>Setosa</td>\n",
       "    </tr>\n",
       "    <tr>\n",
       "      <th>4</th>\n",
       "      <td>5.0</td>\n",
       "      <td>3.6</td>\n",
       "      <td>1.4</td>\n",
       "      <td>0.2</td>\n",
       "      <td>Setosa</td>\n",
       "    </tr>\n",
       "    <tr>\n",
       "      <th>...</th>\n",
       "      <td>...</td>\n",
       "      <td>...</td>\n",
       "      <td>...</td>\n",
       "      <td>...</td>\n",
       "      <td>...</td>\n",
       "    </tr>\n",
       "    <tr>\n",
       "      <th>145</th>\n",
       "      <td>6.7</td>\n",
       "      <td>3.0</td>\n",
       "      <td>5.2</td>\n",
       "      <td>2.3</td>\n",
       "      <td>Virginica</td>\n",
       "    </tr>\n",
       "    <tr>\n",
       "      <th>146</th>\n",
       "      <td>6.3</td>\n",
       "      <td>2.5</td>\n",
       "      <td>5.0</td>\n",
       "      <td>1.9</td>\n",
       "      <td>Virginica</td>\n",
       "    </tr>\n",
       "    <tr>\n",
       "      <th>147</th>\n",
       "      <td>6.5</td>\n",
       "      <td>3.0</td>\n",
       "      <td>5.2</td>\n",
       "      <td>2.0</td>\n",
       "      <td>Virginica</td>\n",
       "    </tr>\n",
       "    <tr>\n",
       "      <th>148</th>\n",
       "      <td>6.2</td>\n",
       "      <td>3.4</td>\n",
       "      <td>5.4</td>\n",
       "      <td>2.3</td>\n",
       "      <td>Virginica</td>\n",
       "    </tr>\n",
       "    <tr>\n",
       "      <th>149</th>\n",
       "      <td>5.9</td>\n",
       "      <td>3.0</td>\n",
       "      <td>5.1</td>\n",
       "      <td>1.8</td>\n",
       "      <td>Virginica</td>\n",
       "    </tr>\n",
       "  </tbody>\n",
       "</table>\n",
       "<p>150 rows × 5 columns</p>\n",
       "</div>"
      ],
      "text/plain": [
       "     sepallength  sepalwidth  petallength  petalwidth    variety\n",
       "0            5.1         3.5          1.4         0.2     Setosa\n",
       "1            4.9         3.0          1.4         0.2     Setosa\n",
       "2            4.7         3.2          1.3         0.2     Setosa\n",
       "3            4.6         3.1          1.5         0.2     Setosa\n",
       "4            5.0         3.6          1.4         0.2     Setosa\n",
       "..           ...         ...          ...         ...        ...\n",
       "145          6.7         3.0          5.2         2.3  Virginica\n",
       "146          6.3         2.5          5.0         1.9  Virginica\n",
       "147          6.5         3.0          5.2         2.0  Virginica\n",
       "148          6.2         3.4          5.4         2.3  Virginica\n",
       "149          5.9         3.0          5.1         1.8  Virginica\n",
       "\n",
       "[150 rows x 5 columns]"
      ]
     },
     "execution_count": 8,
     "metadata": {},
     "output_type": "execute_result"
    }
   ],
   "source": [
    "df"
   ]
  },
  {
   "cell_type": "code",
   "execution_count": 9,
   "metadata": {},
   "outputs": [
    {
     "data": {
      "text/plain": [
       "(150, 5)"
      ]
     },
     "execution_count": 9,
     "metadata": {},
     "output_type": "execute_result"
    }
   ],
   "source": [
    "df.shape"
   ]
  },
  {
   "cell_type": "markdown",
   "metadata": {},
   "source": [
    "## Splitting the dataset into the Training set and Test set"
   ]
  },
  {
   "cell_type": "code",
   "execution_count": 10,
   "metadata": {},
   "outputs": [],
   "source": [
    "from sklearn.model_selection import train_test_split"
   ]
  },
  {
   "cell_type": "code",
   "execution_count": 11,
   "metadata": {},
   "outputs": [],
   "source": [
    "x_train,x_test,y_train,y_test=train_test_split(df[['sepallength','sepalwidth','petallength','petalwidth']],df.variety,test_size=0.25)"
   ]
  },
  {
   "cell_type": "code",
   "execution_count": 12,
   "metadata": {},
   "outputs": [
    {
     "data": {
      "text/html": [
       "<div>\n",
       "<style scoped>\n",
       "    .dataframe tbody tr th:only-of-type {\n",
       "        vertical-align: middle;\n",
       "    }\n",
       "\n",
       "    .dataframe tbody tr th {\n",
       "        vertical-align: top;\n",
       "    }\n",
       "\n",
       "    .dataframe thead th {\n",
       "        text-align: right;\n",
       "    }\n",
       "</style>\n",
       "<table border=\"1\" class=\"dataframe\">\n",
       "  <thead>\n",
       "    <tr style=\"text-align: right;\">\n",
       "      <th></th>\n",
       "      <th>sepallength</th>\n",
       "      <th>sepalwidth</th>\n",
       "      <th>petallength</th>\n",
       "      <th>petalwidth</th>\n",
       "    </tr>\n",
       "  </thead>\n",
       "  <tbody>\n",
       "    <tr>\n",
       "      <th>97</th>\n",
       "      <td>6.2</td>\n",
       "      <td>2.9</td>\n",
       "      <td>4.3</td>\n",
       "      <td>1.3</td>\n",
       "    </tr>\n",
       "    <tr>\n",
       "      <th>75</th>\n",
       "      <td>6.6</td>\n",
       "      <td>3.0</td>\n",
       "      <td>4.4</td>\n",
       "      <td>1.4</td>\n",
       "    </tr>\n",
       "    <tr>\n",
       "      <th>43</th>\n",
       "      <td>5.0</td>\n",
       "      <td>3.5</td>\n",
       "      <td>1.6</td>\n",
       "      <td>0.6</td>\n",
       "    </tr>\n",
       "    <tr>\n",
       "      <th>28</th>\n",
       "      <td>5.2</td>\n",
       "      <td>3.4</td>\n",
       "      <td>1.4</td>\n",
       "      <td>0.2</td>\n",
       "    </tr>\n",
       "    <tr>\n",
       "      <th>76</th>\n",
       "      <td>6.8</td>\n",
       "      <td>2.8</td>\n",
       "      <td>4.8</td>\n",
       "      <td>1.4</td>\n",
       "    </tr>\n",
       "    <tr>\n",
       "      <th>141</th>\n",
       "      <td>6.9</td>\n",
       "      <td>3.1</td>\n",
       "      <td>5.1</td>\n",
       "      <td>2.3</td>\n",
       "    </tr>\n",
       "    <tr>\n",
       "      <th>31</th>\n",
       "      <td>5.4</td>\n",
       "      <td>3.4</td>\n",
       "      <td>1.5</td>\n",
       "      <td>0.4</td>\n",
       "    </tr>\n",
       "    <tr>\n",
       "      <th>77</th>\n",
       "      <td>6.7</td>\n",
       "      <td>3.0</td>\n",
       "      <td>5.0</td>\n",
       "      <td>1.7</td>\n",
       "    </tr>\n",
       "    <tr>\n",
       "      <th>56</th>\n",
       "      <td>6.3</td>\n",
       "      <td>3.3</td>\n",
       "      <td>4.7</td>\n",
       "      <td>1.6</td>\n",
       "    </tr>\n",
       "    <tr>\n",
       "      <th>14</th>\n",
       "      <td>5.8</td>\n",
       "      <td>4.0</td>\n",
       "      <td>1.2</td>\n",
       "      <td>0.2</td>\n",
       "    </tr>\n",
       "    <tr>\n",
       "      <th>133</th>\n",
       "      <td>6.3</td>\n",
       "      <td>2.8</td>\n",
       "      <td>5.1</td>\n",
       "      <td>1.5</td>\n",
       "    </tr>\n",
       "    <tr>\n",
       "      <th>111</th>\n",
       "      <td>6.4</td>\n",
       "      <td>2.7</td>\n",
       "      <td>5.3</td>\n",
       "      <td>1.9</td>\n",
       "    </tr>\n",
       "    <tr>\n",
       "      <th>82</th>\n",
       "      <td>5.8</td>\n",
       "      <td>2.7</td>\n",
       "      <td>3.9</td>\n",
       "      <td>1.2</td>\n",
       "    </tr>\n",
       "    <tr>\n",
       "      <th>142</th>\n",
       "      <td>5.8</td>\n",
       "      <td>2.7</td>\n",
       "      <td>5.1</td>\n",
       "      <td>1.9</td>\n",
       "    </tr>\n",
       "    <tr>\n",
       "      <th>8</th>\n",
       "      <td>4.4</td>\n",
       "      <td>2.9</td>\n",
       "      <td>1.4</td>\n",
       "      <td>0.2</td>\n",
       "    </tr>\n",
       "    <tr>\n",
       "      <th>120</th>\n",
       "      <td>6.9</td>\n",
       "      <td>3.2</td>\n",
       "      <td>5.7</td>\n",
       "      <td>2.3</td>\n",
       "    </tr>\n",
       "    <tr>\n",
       "      <th>88</th>\n",
       "      <td>5.6</td>\n",
       "      <td>3.0</td>\n",
       "      <td>4.1</td>\n",
       "      <td>1.3</td>\n",
       "    </tr>\n",
       "    <tr>\n",
       "      <th>42</th>\n",
       "      <td>4.4</td>\n",
       "      <td>3.2</td>\n",
       "      <td>1.3</td>\n",
       "      <td>0.2</td>\n",
       "    </tr>\n",
       "    <tr>\n",
       "      <th>58</th>\n",
       "      <td>6.6</td>\n",
       "      <td>2.9</td>\n",
       "      <td>4.6</td>\n",
       "      <td>1.3</td>\n",
       "    </tr>\n",
       "    <tr>\n",
       "      <th>137</th>\n",
       "      <td>6.4</td>\n",
       "      <td>3.1</td>\n",
       "      <td>5.5</td>\n",
       "      <td>1.8</td>\n",
       "    </tr>\n",
       "    <tr>\n",
       "      <th>113</th>\n",
       "      <td>5.7</td>\n",
       "      <td>2.5</td>\n",
       "      <td>5.0</td>\n",
       "      <td>2.0</td>\n",
       "    </tr>\n",
       "    <tr>\n",
       "      <th>6</th>\n",
       "      <td>4.6</td>\n",
       "      <td>3.4</td>\n",
       "      <td>1.4</td>\n",
       "      <td>0.3</td>\n",
       "    </tr>\n",
       "    <tr>\n",
       "      <th>47</th>\n",
       "      <td>4.6</td>\n",
       "      <td>3.2</td>\n",
       "      <td>1.4</td>\n",
       "      <td>0.2</td>\n",
       "    </tr>\n",
       "    <tr>\n",
       "      <th>84</th>\n",
       "      <td>5.4</td>\n",
       "      <td>3.0</td>\n",
       "      <td>4.5</td>\n",
       "      <td>1.5</td>\n",
       "    </tr>\n",
       "    <tr>\n",
       "      <th>138</th>\n",
       "      <td>6.0</td>\n",
       "      <td>3.0</td>\n",
       "      <td>4.8</td>\n",
       "      <td>1.8</td>\n",
       "    </tr>\n",
       "    <tr>\n",
       "      <th>89</th>\n",
       "      <td>5.5</td>\n",
       "      <td>2.5</td>\n",
       "      <td>4.0</td>\n",
       "      <td>1.3</td>\n",
       "    </tr>\n",
       "    <tr>\n",
       "      <th>41</th>\n",
       "      <td>4.5</td>\n",
       "      <td>2.3</td>\n",
       "      <td>1.3</td>\n",
       "      <td>0.3</td>\n",
       "    </tr>\n",
       "    <tr>\n",
       "      <th>145</th>\n",
       "      <td>6.7</td>\n",
       "      <td>3.0</td>\n",
       "      <td>5.2</td>\n",
       "      <td>2.3</td>\n",
       "    </tr>\n",
       "    <tr>\n",
       "      <th>61</th>\n",
       "      <td>5.9</td>\n",
       "      <td>3.0</td>\n",
       "      <td>4.2</td>\n",
       "      <td>1.5</td>\n",
       "    </tr>\n",
       "    <tr>\n",
       "      <th>13</th>\n",
       "      <td>4.3</td>\n",
       "      <td>3.0</td>\n",
       "      <td>1.1</td>\n",
       "      <td>0.1</td>\n",
       "    </tr>\n",
       "    <tr>\n",
       "      <th>125</th>\n",
       "      <td>7.2</td>\n",
       "      <td>3.2</td>\n",
       "      <td>6.0</td>\n",
       "      <td>1.8</td>\n",
       "    </tr>\n",
       "    <tr>\n",
       "      <th>119</th>\n",
       "      <td>6.0</td>\n",
       "      <td>2.2</td>\n",
       "      <td>5.0</td>\n",
       "      <td>1.5</td>\n",
       "    </tr>\n",
       "    <tr>\n",
       "      <th>5</th>\n",
       "      <td>5.4</td>\n",
       "      <td>3.9</td>\n",
       "      <td>1.7</td>\n",
       "      <td>0.4</td>\n",
       "    </tr>\n",
       "    <tr>\n",
       "      <th>114</th>\n",
       "      <td>5.8</td>\n",
       "      <td>2.8</td>\n",
       "      <td>5.1</td>\n",
       "      <td>2.4</td>\n",
       "    </tr>\n",
       "    <tr>\n",
       "      <th>143</th>\n",
       "      <td>6.8</td>\n",
       "      <td>3.2</td>\n",
       "      <td>5.9</td>\n",
       "      <td>2.3</td>\n",
       "    </tr>\n",
       "    <tr>\n",
       "      <th>104</th>\n",
       "      <td>6.5</td>\n",
       "      <td>3.0</td>\n",
       "      <td>5.8</td>\n",
       "      <td>2.2</td>\n",
       "    </tr>\n",
       "    <tr>\n",
       "      <th>12</th>\n",
       "      <td>4.8</td>\n",
       "      <td>3.0</td>\n",
       "      <td>1.4</td>\n",
       "      <td>0.1</td>\n",
       "    </tr>\n",
       "    <tr>\n",
       "      <th>10</th>\n",
       "      <td>5.4</td>\n",
       "      <td>3.7</td>\n",
       "      <td>1.5</td>\n",
       "      <td>0.2</td>\n",
       "    </tr>\n",
       "  </tbody>\n",
       "</table>\n",
       "</div>"
      ],
      "text/plain": [
       "     sepallength  sepalwidth  petallength  petalwidth\n",
       "97           6.2         2.9          4.3         1.3\n",
       "75           6.6         3.0          4.4         1.4\n",
       "43           5.0         3.5          1.6         0.6\n",
       "28           5.2         3.4          1.4         0.2\n",
       "76           6.8         2.8          4.8         1.4\n",
       "141          6.9         3.1          5.1         2.3\n",
       "31           5.4         3.4          1.5         0.4\n",
       "77           6.7         3.0          5.0         1.7\n",
       "56           6.3         3.3          4.7         1.6\n",
       "14           5.8         4.0          1.2         0.2\n",
       "133          6.3         2.8          5.1         1.5\n",
       "111          6.4         2.7          5.3         1.9\n",
       "82           5.8         2.7          3.9         1.2\n",
       "142          5.8         2.7          5.1         1.9\n",
       "8            4.4         2.9          1.4         0.2\n",
       "120          6.9         3.2          5.7         2.3\n",
       "88           5.6         3.0          4.1         1.3\n",
       "42           4.4         3.2          1.3         0.2\n",
       "58           6.6         2.9          4.6         1.3\n",
       "137          6.4         3.1          5.5         1.8\n",
       "113          5.7         2.5          5.0         2.0\n",
       "6            4.6         3.4          1.4         0.3\n",
       "47           4.6         3.2          1.4         0.2\n",
       "84           5.4         3.0          4.5         1.5\n",
       "138          6.0         3.0          4.8         1.8\n",
       "89           5.5         2.5          4.0         1.3\n",
       "41           4.5         2.3          1.3         0.3\n",
       "145          6.7         3.0          5.2         2.3\n",
       "61           5.9         3.0          4.2         1.5\n",
       "13           4.3         3.0          1.1         0.1\n",
       "125          7.2         3.2          6.0         1.8\n",
       "119          6.0         2.2          5.0         1.5\n",
       "5            5.4         3.9          1.7         0.4\n",
       "114          5.8         2.8          5.1         2.4\n",
       "143          6.8         3.2          5.9         2.3\n",
       "104          6.5         3.0          5.8         2.2\n",
       "12           4.8         3.0          1.4         0.1\n",
       "10           5.4         3.7          1.5         0.2"
      ]
     },
     "execution_count": 12,
     "metadata": {},
     "output_type": "execute_result"
    }
   ],
   "source": [
    "x_test"
   ]
  },
  {
   "cell_type": "code",
   "execution_count": 13,
   "metadata": {},
   "outputs": [
    {
     "data": {
      "text/plain": [
       "97     Versicolor\n",
       "75     Versicolor\n",
       "43         Setosa\n",
       "28         Setosa\n",
       "76     Versicolor\n",
       "141     Virginica\n",
       "31         Setosa\n",
       "77     Versicolor\n",
       "56     Versicolor\n",
       "14         Setosa\n",
       "133     Virginica\n",
       "111     Virginica\n",
       "82     Versicolor\n",
       "142     Virginica\n",
       "8          Setosa\n",
       "120     Virginica\n",
       "88     Versicolor\n",
       "42         Setosa\n",
       "58     Versicolor\n",
       "137     Virginica\n",
       "113     Virginica\n",
       "6          Setosa\n",
       "47         Setosa\n",
       "84     Versicolor\n",
       "138     Virginica\n",
       "89     Versicolor\n",
       "41         Setosa\n",
       "145     Virginica\n",
       "61     Versicolor\n",
       "13         Setosa\n",
       "125     Virginica\n",
       "119     Virginica\n",
       "5          Setosa\n",
       "114     Virginica\n",
       "143     Virginica\n",
       "104     Virginica\n",
       "12         Setosa\n",
       "10         Setosa\n",
       "Name: variety, dtype: object"
      ]
     },
     "execution_count": 13,
     "metadata": {},
     "output_type": "execute_result"
    }
   ],
   "source": [
    "y_test"
   ]
  },
  {
   "cell_type": "code",
   "execution_count": 14,
   "metadata": {},
   "outputs": [
    {
     "data": {
      "text/html": [
       "<div>\n",
       "<style scoped>\n",
       "    .dataframe tbody tr th:only-of-type {\n",
       "        vertical-align: middle;\n",
       "    }\n",
       "\n",
       "    .dataframe tbody tr th {\n",
       "        vertical-align: top;\n",
       "    }\n",
       "\n",
       "    .dataframe thead th {\n",
       "        text-align: right;\n",
       "    }\n",
       "</style>\n",
       "<table border=\"1\" class=\"dataframe\">\n",
       "  <thead>\n",
       "    <tr style=\"text-align: right;\">\n",
       "      <th></th>\n",
       "      <th>sepallength</th>\n",
       "      <th>sepalwidth</th>\n",
       "      <th>petallength</th>\n",
       "      <th>petalwidth</th>\n",
       "    </tr>\n",
       "  </thead>\n",
       "  <tbody>\n",
       "    <tr>\n",
       "      <th>116</th>\n",
       "      <td>6.5</td>\n",
       "      <td>3.0</td>\n",
       "      <td>5.5</td>\n",
       "      <td>1.8</td>\n",
       "    </tr>\n",
       "    <tr>\n",
       "      <th>149</th>\n",
       "      <td>5.9</td>\n",
       "      <td>3.0</td>\n",
       "      <td>5.1</td>\n",
       "      <td>1.8</td>\n",
       "    </tr>\n",
       "    <tr>\n",
       "      <th>134</th>\n",
       "      <td>6.1</td>\n",
       "      <td>2.6</td>\n",
       "      <td>5.6</td>\n",
       "      <td>1.4</td>\n",
       "    </tr>\n",
       "    <tr>\n",
       "      <th>27</th>\n",
       "      <td>5.2</td>\n",
       "      <td>3.5</td>\n",
       "      <td>1.5</td>\n",
       "      <td>0.2</td>\n",
       "    </tr>\n",
       "    <tr>\n",
       "      <th>32</th>\n",
       "      <td>5.2</td>\n",
       "      <td>4.1</td>\n",
       "      <td>1.5</td>\n",
       "      <td>0.1</td>\n",
       "    </tr>\n",
       "    <tr>\n",
       "      <th>...</th>\n",
       "      <td>...</td>\n",
       "      <td>...</td>\n",
       "      <td>...</td>\n",
       "      <td>...</td>\n",
       "    </tr>\n",
       "    <tr>\n",
       "      <th>20</th>\n",
       "      <td>5.4</td>\n",
       "      <td>3.4</td>\n",
       "      <td>1.7</td>\n",
       "      <td>0.2</td>\n",
       "    </tr>\n",
       "    <tr>\n",
       "      <th>146</th>\n",
       "      <td>6.3</td>\n",
       "      <td>2.5</td>\n",
       "      <td>5.0</td>\n",
       "      <td>1.9</td>\n",
       "    </tr>\n",
       "    <tr>\n",
       "      <th>100</th>\n",
       "      <td>6.3</td>\n",
       "      <td>3.3</td>\n",
       "      <td>6.0</td>\n",
       "      <td>2.5</td>\n",
       "    </tr>\n",
       "    <tr>\n",
       "      <th>117</th>\n",
       "      <td>7.7</td>\n",
       "      <td>3.8</td>\n",
       "      <td>6.7</td>\n",
       "      <td>2.2</td>\n",
       "    </tr>\n",
       "    <tr>\n",
       "      <th>70</th>\n",
       "      <td>5.9</td>\n",
       "      <td>3.2</td>\n",
       "      <td>4.8</td>\n",
       "      <td>1.8</td>\n",
       "    </tr>\n",
       "  </tbody>\n",
       "</table>\n",
       "<p>112 rows × 4 columns</p>\n",
       "</div>"
      ],
      "text/plain": [
       "     sepallength  sepalwidth  petallength  petalwidth\n",
       "116          6.5         3.0          5.5         1.8\n",
       "149          5.9         3.0          5.1         1.8\n",
       "134          6.1         2.6          5.6         1.4\n",
       "27           5.2         3.5          1.5         0.2\n",
       "32           5.2         4.1          1.5         0.1\n",
       "..           ...         ...          ...         ...\n",
       "20           5.4         3.4          1.7         0.2\n",
       "146          6.3         2.5          5.0         1.9\n",
       "100          6.3         3.3          6.0         2.5\n",
       "117          7.7         3.8          6.7         2.2\n",
       "70           5.9         3.2          4.8         1.8\n",
       "\n",
       "[112 rows x 4 columns]"
      ]
     },
     "execution_count": 14,
     "metadata": {},
     "output_type": "execute_result"
    }
   ],
   "source": [
    "x_train"
   ]
  },
  {
   "cell_type": "code",
   "execution_count": 15,
   "metadata": {},
   "outputs": [
    {
     "data": {
      "text/plain": [
       "116     Virginica\n",
       "149     Virginica\n",
       "134     Virginica\n",
       "27         Setosa\n",
       "32         Setosa\n",
       "          ...    \n",
       "20         Setosa\n",
       "146     Virginica\n",
       "100     Virginica\n",
       "117     Virginica\n",
       "70     Versicolor\n",
       "Name: variety, Length: 112, dtype: object"
      ]
     },
     "execution_count": 15,
     "metadata": {},
     "output_type": "execute_result"
    }
   ],
   "source": [
    "y_train"
   ]
  },
  {
   "cell_type": "code",
   "execution_count": 16,
   "metadata": {},
   "outputs": [
    {
     "data": {
      "image/png": "[encoded data removed]",
      "text/plain": [
       "<Figure size 432x288 with 1 Axes>"
      ]
     },
     "metadata": {
      "needs_background": "light"
     },
     "output_type": "display_data"
    }
   ],
   "source": [
    "import seaborn as sns\n",
    "sns.scatterplot(x='sepalwidth',y='petallength',data=df,color='orange',marker='+')\n",
    "plt.show() "
   ]
  },
  {
   "cell_type": "markdown",
   "metadata": {},
   "source": [
    "## Feature Scaling"
   ]
  },
  {
   "cell_type": "code",
   "execution_count": 29,
   "metadata": {},
   "outputs": [],
   "source": [
    "from sklearn.preprocessing import StandardScaler\n",
    "sc = StandardScaler()\n",
    "x_train = sc.fit_transform(x_train)\n",
    "x_test = sc.transform(x_test)"
   ]
  },
  {
   "cell_type": "code",
   "execution_count": 30,
   "metadata": {},
   "outputs": [
    {
     "data": {
      "text/plain": [
       "array([[ 0.77470517, -0.14001167,  0.97862687,  0.81024551],\n",
       "       [ 0.05264987, -0.14001167,  0.75216776,  0.81024551],\n",
       "       [ 0.29333497, -1.0234656 ,  1.03524165,  0.28110559],\n",
       "       [-0.78974799,  0.96430574, -1.28596423, -1.3063142 ],\n",
       "       [-0.78974799,  2.28948663, -1.28596423, -1.43859918],\n",
       "       [-1.03043309, -2.34864649, -0.15366868, -0.24803434],\n",
       "       [ 0.65436262,  0.30171529,  0.86539731,  1.47167042],\n",
       "       [ 2.21881577, -0.14001167,  1.31831553,  1.47167042],\n",
       "       [ 0.65436262, -0.58173863,  1.03524165,  1.20710046],\n",
       "       [ 1.37641792,  0.30171529,  0.52570865,  0.28110559],\n",
       "       [ 2.21881577, -1.0234656 ,  1.77123375,  1.47167042],\n",
       "       [ 1.01539027,  0.52257877,  1.09185642,  1.20710046],\n",
       "       [ 1.13573282, -0.14001167,  0.97862687,  1.20710046],\n",
       "       [-0.18803524, -0.36087515,  0.24263476,  0.1488206 ],\n",
       "       [-0.18803524,  2.95207707, -1.28596423, -1.04174423],\n",
       "       [ 1.25607537,  0.08085181,  0.92201209,  1.20710046],\n",
       "       [-0.30837779, -0.36087515, -0.0970539 ,  0.1488206 ],\n",
       "       [-0.18803524, -0.58173863,  0.41247909,  0.1488206 ],\n",
       "       [ 1.01539027,  0.08085181,  0.35586432,  0.28110559],\n",
       "       [-1.51180329,  1.18516922, -1.56903812, -1.3063142 ],\n",
       "       [-0.18803524, -0.14001167,  0.24263476,  0.01653562],\n",
       "       [-0.30837779, -1.24432908,  0.07279043, -0.11574936],\n",
       "       [-0.42872034, -1.46519256, -0.04043913, -0.24803434],\n",
       "       [-0.42872034,  0.96430574, -1.39919379, -1.3063142 ],\n",
       "       [-0.42872034, -1.46519256,  0.01617565, -0.11574936],\n",
       "       [ 0.29333497, -0.14001167,  0.6389382 ,  0.81024551],\n",
       "       [-1.15077564,  0.08085181, -1.28596423, -1.3063142 ],\n",
       "       [ 0.41367752, -1.90691952,  0.41247909,  0.41339057],\n",
       "       [-1.03043309,  1.18516922, -1.34257901, -1.3063142 ],\n",
       "       [ 1.85778812, -0.58173863,  1.31831553,  0.9425305 ],\n",
       "       [-1.75248839, -0.14001167, -1.39919379, -1.3063142 ],\n",
       "       [ 0.17299242,  0.74344226,  0.41247909,  0.54567555],\n",
       "       [ 1.01539027,  0.52257877,  1.09185642,  1.73624039],\n",
       "       [-0.30837779, -0.80260212,  0.24263476,  0.1488206 ],\n",
       "       [-1.27111819,  0.74344226, -1.22934945, -1.3063142 ],\n",
       "       [-1.03043309, -1.68605604, -0.26689824, -0.24803434],\n",
       "       [-0.30837779, -0.14001167,  0.41247909,  0.41339057],\n",
       "       [ 1.73744557, -0.36087515,  1.43154509,  0.81024551],\n",
       "       [-0.06769268, -0.80260212,  0.75216776,  0.9425305 ],\n",
       "       [-0.91009054,  0.52257877, -1.17273468, -0.90945925],\n",
       "       [-0.18803524,  1.62689618, -1.17273468, -1.17402921],\n",
       "       [ 1.01539027,  0.08085181,  1.03524165,  1.60395541],\n",
       "       [-1.03043309,  0.74344226, -1.22934945, -1.04174423],\n",
       "       [ 1.25607537,  0.08085181,  0.6389382 ,  0.41339057],\n",
       "       [-0.42872034,  2.51035011, -1.34257901, -1.3063142 ],\n",
       "       [-0.30837779, -0.58173863,  0.6389382 ,  1.07481548],\n",
       "       [-1.03043309,  0.30171529, -1.45580856, -1.3063142 ],\n",
       "       [-1.27111819,  0.74344226, -1.05950512, -1.3063142 ],\n",
       "       [-0.18803524, -1.0234656 , -0.15366868, -0.24803434],\n",
       "       [ 0.65436262,  0.30171529,  0.41247909,  0.41339057],\n",
       "       [-0.91009054, -1.24432908, -0.43674257, -0.11574936],\n",
       "       [ 0.41367752, -0.58173863,  0.58232343,  0.81024551],\n",
       "       [ 2.45950088,  1.62689618,  1.48815987,  1.07481548],\n",
       "       [ 0.29333497, -0.36087515,  0.52570865,  0.28110559],\n",
       "       [-0.91009054,  1.62689618, -1.05950512, -1.04174423],\n",
       "       [-0.91009054,  0.96430574, -1.34257901, -1.17402921],\n",
       "       [ 1.01539027, -1.24432908,  1.1484712 ,  0.81024551],\n",
       "       [ 0.77470517,  0.30171529,  0.75216776,  1.07481548],\n",
       "       [ 0.53402007, -1.68605604,  0.35586432,  0.1488206 ],\n",
       "       [-0.91009054,  1.62689618, -1.28596423, -1.17402921],\n",
       "       [-1.15077564,  1.18516922, -1.34257901, -1.43859918],\n",
       "       [-0.06769268, -1.0234656 ,  0.12940521,  0.01653562],\n",
       "       [-0.66940544,  1.4060327 , -1.28596423, -1.3063142 ],\n",
       "       [-0.91009054,  0.96430574, -1.34257901, -1.3063142 ],\n",
       "       [ 1.61710302,  1.18516922,  1.31831553,  1.73624039],\n",
       "       [ 0.65436262, -0.36087515,  0.29924954,  0.1488206 ],\n",
       "       [ 0.29333497, -0.14001167,  0.46909387,  0.28110559],\n",
       "       [-0.06769268, -0.80260212,  0.18601998, -0.24803434],\n",
       "       [ 2.09847322, -0.14001167,  1.60138942,  1.20710046],\n",
       "       [ 1.61710302, -0.14001167,  1.1484712 ,  0.54567555],\n",
       "       [-1.03043309,  0.96430574, -1.39919379, -1.17402921],\n",
       "       [ 0.41367752,  0.74344226,  0.92201209,  1.47167042],\n",
       "       [ 0.77470517, -0.14001167,  0.80878254,  1.07481548],\n",
       "       [ 0.29333497, -0.58173863,  0.12940521,  0.1488206 ],\n",
       "       [ 0.29333497, -0.58173863,  0.52570865,  0.01653562],\n",
       "       [ 0.53402007,  0.74344226,  1.03524165,  1.60395541],\n",
       "       [ 0.17299242, -0.36087515,  0.41247909,  0.41339057],\n",
       "       [-0.91009054,  1.4060327 , -1.28596423, -1.04174423],\n",
       "       [ 0.53402007, -1.24432908,  0.6389382 ,  0.41339057],\n",
       "       [ 1.01539027,  0.08085181,  0.52570865,  0.41339057],\n",
       "       [ 0.77470517, -0.58173863,  0.46909387,  0.41339057],\n",
       "       [ 0.17299242, -0.80260212,  0.75216776,  0.54567555],\n",
       "       [-1.03043309, -0.14001167, -1.22934945, -1.3063142 ],\n",
       "       [-0.18803524, -0.58173863,  0.18601998,  0.1488206 ],\n",
       "       [-0.91009054,  1.62689618, -1.22934945, -1.3063142 ],\n",
       "       [-1.15077564,  0.08085181, -1.28596423, -1.43859918],\n",
       "       [-1.03043309,  0.52257877, -1.34257901, -1.3063142 ],\n",
       "       [ 0.53402007, -0.80260212,  0.6389382 ,  0.81024551],\n",
       "       [-1.15077564, -0.14001167, -1.34257901, -1.3063142 ],\n",
       "       [ 0.65436262, -0.58173863,  1.03524165,  1.33938544],\n",
       "       [-1.27111819, -0.14001167, -1.34257901, -1.17402921],\n",
       "       [-1.15077564, -1.46519256, -0.26689824, -0.24803434],\n",
       "       [-0.91009054,  0.74344226, -1.28596423, -1.3063142 ],\n",
       "       [-1.39146074,  0.30171529, -1.39919379, -1.3063142 ],\n",
       "       [-1.51180329,  0.08085181, -1.28596423, -1.3063142 ],\n",
       "       [-1.15077564, -1.24432908,  0.41247909,  0.67796053],\n",
       "       [ 0.53402007, -0.36087515,  1.03524165,  0.81024551],\n",
       "       [ 1.49676047, -0.14001167,  1.20508598,  1.20710046],\n",
       "       [ 2.21881577, -0.58173863,  1.6580042 ,  1.07481548],\n",
       "       [-1.27111819,  0.08085181, -1.22934945, -1.3063142 ],\n",
       "       [-1.39146074,  0.30171529, -1.22934945, -1.3063142 ],\n",
       "       [ 0.17299242, -1.90691952,  0.12940521, -0.24803434],\n",
       "       [-0.42872034, -1.0234656 ,  0.35586432,  0.01653562],\n",
       "       [-1.03043309,  0.74344226, -1.28596423, -1.3063142 ],\n",
       "       [-0.42872034, -1.68605604,  0.12940521,  0.1488206 ],\n",
       "       [-0.54906289,  1.84775966, -1.39919379, -1.04174423],\n",
       "       [-0.78974799, -0.80260212,  0.07279043,  0.28110559],\n",
       "       [-0.54906289,  0.74344226, -1.17273468, -1.3063142 ],\n",
       "       [ 0.53402007, -1.24432908,  0.69555298,  0.9425305 ],\n",
       "       [ 0.53402007,  0.52257877,  1.26170076,  1.73624039],\n",
       "       [ 2.21881577,  1.62689618,  1.6580042 ,  1.33938544],\n",
       "       [ 0.05264987,  0.30171529,  0.58232343,  0.81024551]])"
      ]
     },
     "execution_count": 30,
     "metadata": {},
     "output_type": "execute_result"
    }
   ],
   "source": [
    "x_train"
   ]
  },
  {
   "cell_type": "code",
   "execution_count": 31,
   "metadata": {},
   "outputs": [
    {
     "data": {
      "text/plain": [
       "array([[ 0.41367752, -0.36087515,  0.29924954,  0.1488206 ],\n",
       "       [ 0.89504772, -0.14001167,  0.35586432,  0.28110559],\n",
       "       [-1.03043309,  0.96430574, -1.22934945, -0.77717427],\n",
       "       [-0.78974799,  0.74344226, -1.34257901, -1.3063142 ],\n",
       "       [ 1.13573282, -0.58173863,  0.58232343,  0.28110559],\n",
       "       [ 1.25607537,  0.08085181,  0.75216776,  1.47167042],\n",
       "       [-0.54906289,  0.74344226, -1.28596423, -1.04174423],\n",
       "       [ 1.01539027, -0.14001167,  0.69555298,  0.67796053],\n",
       "       [ 0.53402007,  0.52257877,  0.52570865,  0.54567555],\n",
       "       [-0.06769268,  2.06862314, -1.45580856, -1.3063142 ],\n",
       "       [ 0.53402007, -0.58173863,  0.75216776,  0.41339057],\n",
       "       [ 0.65436262, -0.80260212,  0.86539731,  0.9425305 ],\n",
       "       [-0.06769268, -0.80260212,  0.07279043,  0.01653562],\n",
       "       [-0.06769268, -0.80260212,  0.75216776,  0.9425305 ],\n",
       "       [-1.75248839, -0.36087515, -1.34257901, -1.3063142 ],\n",
       "       [ 1.25607537,  0.30171529,  1.09185642,  1.47167042],\n",
       "       [-0.30837779, -0.14001167,  0.18601998,  0.1488206 ],\n",
       "       [-1.75248839,  0.30171529, -1.39919379, -1.3063142 ],\n",
       "       [ 0.89504772, -0.36087515,  0.46909387,  0.1488206 ],\n",
       "       [ 0.65436262,  0.08085181,  0.97862687,  0.81024551],\n",
       "       [-0.18803524, -1.24432908,  0.69555298,  1.07481548],\n",
       "       [-1.51180329,  0.74344226, -1.34257901, -1.17402921],\n",
       "       [-1.51180329,  0.30171529, -1.34257901, -1.3063142 ],\n",
       "       [-0.54906289, -0.14001167,  0.41247909,  0.41339057],\n",
       "       [ 0.17299242, -0.14001167,  0.58232343,  0.81024551],\n",
       "       [-0.42872034, -1.24432908,  0.12940521,  0.1488206 ],\n",
       "       [-1.63214584, -1.68605604, -1.39919379, -1.17402921],\n",
       "       [ 1.01539027, -0.14001167,  0.80878254,  1.47167042],\n",
       "       [ 0.05264987, -0.14001167,  0.24263476,  0.41339057],\n",
       "       [-1.87283094, -0.14001167, -1.51242334, -1.43859918],\n",
       "       [ 1.61710302,  0.30171529,  1.26170076,  0.81024551],\n",
       "       [ 0.17299242, -1.90691952,  0.69555298,  0.41339057],\n",
       "       [-0.54906289,  1.84775966, -1.17273468, -1.04174423],\n",
       "       [-0.06769268, -0.58173863,  0.75216776,  1.60395541],\n",
       "       [ 1.13573282,  0.30171529,  1.20508598,  1.47167042],\n",
       "       [ 0.77470517, -0.14001167,  1.1484712 ,  1.33938544],\n",
       "       [-1.27111819, -0.14001167, -1.34257901, -1.43859918],\n",
       "       [-0.54906289,  1.4060327 , -1.28596423, -1.3063142 ]])"
      ]
     },
     "execution_count": 31,
     "metadata": {},
     "output_type": "execute_result"
    }
   ],
   "source": [
    "x_test"
   ]
  },
  {
   "cell_type": "markdown",
   "metadata": {},
   "source": [
    "## Training the Logistic Regression model on the Training set"
   ]
  },
  {
   "cell_type": "code",
   "execution_count": 32,
   "metadata": {},
   "outputs": [],
   "source": [
    "reg=linear_model.LogisticRegression()"
   ]
  },
  {
   "cell_type": "code",
   "execution_count": 33,
   "metadata": {},
   "outputs": [
    {
     "data": {
      "text/plain": [
       "LogisticRegression()"
      ]
     },
     "execution_count": 33,
     "metadata": {},
     "output_type": "execute_result"
    }
   ],
   "source": [
    "#training the data\n",
    "reg.fit(x_train,y_train)    #reg.fit(independent(input),dependent(output))"
   ]
  },
  {
   "cell_type": "code",
   "execution_count": 34,
   "metadata": {},
   "outputs": [],
   "source": [
    "y_predict=reg.predict(x_test)"
   ]
  },
  {
   "cell_type": "code",
   "execution_count": 35,
   "metadata": {},
   "outputs": [
    {
     "data": {
      "text/plain": [
       "array(['Versicolor', 'Versicolor', 'Setosa', 'Setosa', 'Versicolor',\n",
       "       'Virginica', 'Setosa', 'Virginica', 'Versicolor', 'Setosa',\n",
       "       'Versicolor', 'Virginica', 'Versicolor', 'Virginica', 'Setosa',\n",
       "       'Virginica', 'Versicolor', 'Setosa', 'Versicolor', 'Virginica',\n",
       "       'Virginica', 'Setosa', 'Setosa', 'Versicolor', 'Virginica',\n",
       "       'Versicolor', 'Setosa', 'Virginica', 'Versicolor', 'Setosa',\n",
       "       'Virginica', 'Versicolor', 'Setosa', 'Virginica', 'Virginica',\n",
       "       'Virginica', 'Setosa', 'Setosa'], dtype=object)"
      ]
     },
     "execution_count": 35,
     "metadata": {},
     "output_type": "execute_result"
    }
   ],
   "source": [
    "y_predict  "
   ]
  },
  {
   "cell_type": "code",
   "execution_count": 36,
   "metadata": {},
   "outputs": [
    {
     "data": {
      "text/plain": [
       "array(['Virginica'], dtype=object)"
      ]
     },
     "execution_count": 36,
     "metadata": {},
     "output_type": "execute_result"
    }
   ],
   "source": [
    "reg.predict([[3.1,2.2,3.2,2.5]])"
   ]
  },
  {
   "cell_type": "markdown",
   "metadata": {},
   "source": [
    "## Predicting the score"
   ]
  },
  {
   "cell_type": "code",
   "execution_count": 37,
   "metadata": {},
   "outputs": [
    {
     "data": {
      "text/plain": [
       "0.9210526315789473"
      ]
     },
     "execution_count": 37,
     "metadata": {},
     "output_type": "execute_result"
    }
   ],
   "source": [
    "accuracy=reg.score(x_test,y_test) \n",
    "accuracy"
   ]
  },
  {
   "cell_type": "code",
   "execution_count": 38,
   "metadata": {},
   "outputs": [
    {
     "data": {
      "text/plain": [
       "array([[-0.93525926,  1.20702057, -1.66057706, -1.62429177],\n",
       "       [ 0.46288948, -0.56542619, -0.28051903, -0.74848706],\n",
       "       [ 0.47236977, -0.64159438,  1.9410961 ,  2.37277883]])"
      ]
     },
     "execution_count": 38,
     "metadata": {},
     "output_type": "execute_result"
    }
   ],
   "source": [
    "reg.coef_\n",
    "#y=c0+c1(x)               => c0=coefficient       => c1=intercept      => y= output           => x= input \n",
    "# in supervised learning , y=f(x) , we need to find f by using y and x"
   ]
  },
  {
   "cell_type": "code",
   "execution_count": 39,
   "metadata": {},
   "outputs": [
    {
     "data": {
      "text/plain": [
       "array([-0.19297497,  1.82595172, -1.63297675])"
      ]
     },
     "execution_count": 39,
     "metadata": {},
     "output_type": "execute_result"
    }
   ],
   "source": [
    "reg.intercept_"
   ]
  },
  {
   "cell_type": "markdown",
   "metadata": {},
   "source": [
    "## Making the Confusion Matrix"
   ]
  },
  {
   "cell_type": "code",
   "execution_count": 40,
   "metadata": {},
   "outputs": [
    {
     "data": {
      "text/plain": [
       "array([[13,  0,  0],\n",
       "       [ 0, 10,  1],\n",
       "       [ 0,  2, 12]], dtype=int64)"
      ]
     },
     "execution_count": 40,
     "metadata": {},
     "output_type": "execute_result"
    }
   ],
   "source": [
    "from sklearn.metrics import confusion_matrix\n",
    "cm=confusion_matrix(y_test,y_predict)\n",
    "cm   \n",
    "#in coinfusion matrix we always use y_test and y_predict"
   ]
  },
  {
   "cell_type": "code",
   "execution_count": 41,
   "metadata": {},
   "outputs": [
    {
     "data": {
      "text/plain": [
       "Text(159.0, 0.5, 'Truth')"
      ]
     },
     "execution_count": 41,
     "metadata": {},
     "output_type": "execute_result"
    },
    {
     "data": {
      "image/png": "[encoded data removed]",
      "text/plain": [
       "<Figure size 1440x720 with 2 Axes>"
      ]
     },
     "metadata": {
      "needs_background": "light"
     },
     "output_type": "display_data"
    }
   ],
   "source": [
    "import seaborn as sns\n",
    "plt.figure(figsize=(20,10))\n",
    "sns.heatmap(cm,annot=True)\n",
    "plt.xlabel('predicted')\n",
    "plt.ylabel('Truth')"
   ]
  },
  {
   "cell_type": "code",
   "execution_count": 42,
   "metadata": {},
   "outputs": [
    {
     "name": "stdout",
     "output_type": "stream",
     "text": [
      "              precision    recall  f1-score   support\n",
      "\n",
      "      Setosa       1.00      1.00      1.00        13\n",
      "  Versicolor       0.83      0.91      0.87        11\n",
      "   Virginica       0.92      0.86      0.89        14\n",
      "\n",
      "    accuracy                           0.92        38\n",
      "   macro avg       0.92      0.92      0.92        38\n",
      "weighted avg       0.92      0.92      0.92        38\n",
      "\n"
     ]
    }
   ],
   "source": [
    "from sklearn.metrics import classification_report\n",
    "print(classification_report(y_test,reg.predict(x_test)))"
   ]
  },
  {
   "cell_type": "code",
   "execution_count": null,
   "metadata": {},
   "outputs": [],
   "source": []
  },
  {
   "cell_type": "code",
   "execution_count": null,
   "metadata": {},
   "outputs": [],
   "source": []
  }
 ],
 "metadata": {
  "kernelspec": {
   "display_name": "Python 3",
   "language": "python",
   "name": "python3"
  },
  "language_info": {
   "codemirror_mode": {
    "name": "ipython",
    "version": 3
   },
   "file_extension": ".py",
   "mimetype": "text/x-python",
   "name": "python",
   "nbconvert_exporter": "python",
   "pygments_lexer": "ipython3",
   "version": "3.8.5"
  }
 },
 "nbformat": 4,
 "nbformat_minor": 4
}
